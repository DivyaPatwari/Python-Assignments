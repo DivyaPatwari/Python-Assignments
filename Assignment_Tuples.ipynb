{
  "nbformat": 4,
  "nbformat_minor": 0,
  "metadata": {
    "colab": {
      "provenance": [],
      "include_colab_link": true
    },
    "kernelspec": {
      "name": "python3",
      "display_name": "Python 3"
    },
    "language_info": {
      "name": "python"
    }
  },
  "cells": [
    {
      "cell_type": "markdown",
      "metadata": {
        "id": "view-in-github",
        "colab_type": "text"
      },
      "source": [
        "<a href=\"https://colab.research.google.com/github/DivyaPatwari/Python-Assignments/blob/main/Assignment_Tuples.ipynb\" target=\"_parent\"><img src=\"https://colab.research.google.com/assets/colab-badge.svg\" alt=\"Open In Colab\"/></a>"
      ]
    },
    {
      "cell_type": "code",
      "execution_count": null,
      "metadata": {
        "id": "J0nMkyqsyHWY"
      },
      "outputs": [],
      "source": [
        "# Tuples:--\n",
        "# A tuple is a collection of objects /values/items/datas/elements which are ordered and immutable.\n",
        "# It is immutable beacuse its values cannot be modified\n",
        "# Tuple uses ()\n",
        "\n"
      ]
    },
    {
      "cell_type": "code",
      "source": [
        "# List and Tuples\n",
        "\n",
        "# 1) List is mutable and tuple is immutable\n",
        "# 2) The syntax of tuple is shown by parenthesis() whereas syntax of list is shown by sqauare [] brackets\n",
        "# 3)List has variable length  , where as tuple has fixed length.\n",
        "# 4) List has more functionality than the tuple.\n",
        "# 5) Tuples are heterogenous while list are homogenous\n",
        "# 6) Tuples show structure whereas lists show order\n",
        "# 7) Unexpected errors and changes can easily occur in list  , while tuples unexpected errors and changes are rarely seen in tuples.\n"
      ],
      "metadata": {
        "id": "xcS6fQNyyvmU"
      },
      "execution_count": null,
      "outputs": []
    },
    {
      "cell_type": "code",
      "source": [
        "t1 = (1,2,3,4,5,6)\n",
        "print(t1)\n",
        "\n",
        "\n",
        "t2 = (1,2,3,3.14,52.023,\"One\" , \"Priyanka\" , \"Dhananjay\" ,\"Shweta\" , \"Students\" ,'@' , True , False)\n",
        "print(t2)\n",
        "\n",
        "print(type(t2))\n",
        "\n"
      ],
      "metadata": {
        "colab": {
          "base_uri": "https://localhost:8080/"
        },
        "id": "NPF3HBu50wBV",
        "outputId": "5d246923-cb73-4a8d-9bfe-24fbe1008b5e"
      },
      "execution_count": null,
      "outputs": [
        {
          "output_type": "stream",
          "name": "stdout",
          "text": [
            "(1, 2, 3, 4, 5, 6)\n",
            "(1, 2, 3, 3.14, 52.023, 'One', 'Priyanka', 'Dhananjay', 'Shweta', 'Students', '@', True, False)\n",
            "<class 'tuple'>\n"
          ]
        }
      ]
    },
    {
      "cell_type": "code",
      "source": [
        "#Acessing values in tupls:-\n",
        "t3 = (10,20,30,40,50)\n",
        "print(t3[2])\n",
        "print(t3[-1])\n",
        "print(t3[1:4])\n",
        "print(t3[1:])\n",
        "print(t3[:4])"
      ],
      "metadata": {
        "colab": {
          "base_uri": "https://localhost:8080/"
        },
        "id": "2Vgoj7E32OaN",
        "outputId": "1e2e18c9-64b4-421b-d534-4edf8ca87600"
      },
      "execution_count": null,
      "outputs": [
        {
          "output_type": "stream",
          "name": "stdout",
          "text": [
            "30\n",
            "50\n",
            "(20, 30, 40)\n",
            "(20, 30, 40, 50)\n",
            "(10, 20, 30, 40)\n"
          ]
        }
      ]
    },
    {
      "cell_type": "code",
      "source": [
        "#Nested Tuples:--\n",
        "t4 = (1,2,3,(\"One\" ,\"two\" ,\"three\") ,4 , 5 )\n",
        "print(t4)\n",
        "print(t4[3][1])"
      ],
      "metadata": {
        "colab": {
          "base_uri": "https://localhost:8080/"
        },
        "id": "5Woskfvc2zPU",
        "outputId": "8f9c15fd-2a45-44ee-aa5b-17bab9ae835b"
      },
      "execution_count": null,
      "outputs": [
        {
          "output_type": "stream",
          "name": "stdout",
          "text": [
            "(1, 2, 3, ('One', 'two', 'three'), 4, 5)\n",
            "two\n"
          ]
        }
      ]
    },
    {
      "cell_type": "code",
      "source": [
        "#lets try by changing the element\n",
        "# when we will change the element through the indexes in tuple then it will show TypeError\n",
        "t5 = (1,2,3,4,5,6)\n",
        "t5[0] = 100\n",
        "print(t5)\n"
      ],
      "metadata": {
        "id": "rQqbrWJc3id0"
      },
      "execution_count": null,
      "outputs": []
    },
    {
      "cell_type": "code",
      "source": [
        "#tuple assignment\n",
        "piyush = (11 , \"shweta\" , \"Hitesh\" , \"pune\")\n",
        "(id , name1 , name2 , location) = piyush\n",
        "print(id)\n",
        "print(name1)\n",
        "print(name2)\n",
        "print(location)\n",
        "\n"
      ],
      "metadata": {
        "colab": {
          "base_uri": "https://localhost:8080/"
        },
        "id": "r4_Upmd04xWQ",
        "outputId": "c97ce4e3-813d-4467-e916-bb98cdfd7a15"
      },
      "execution_count": null,
      "outputs": [
        {
          "output_type": "stream",
          "name": "stdout",
          "text": [
            "11\n",
            "shweta\n",
            "Hitesh\n",
            "pune\n"
          ]
        }
      ]
    },
    {
      "cell_type": "code",
      "source": [
        "#Deleting the tuple\n",
        "\n",
        "t5 = (1,2,3,4,5,6)\n",
        "print(t5)\n",
        "# del t5\n",
        "# print(t5)"
      ],
      "metadata": {
        "colab": {
          "base_uri": "https://localhost:8080/"
        },
        "id": "YsMy4Xi45gKk",
        "outputId": "bab08253-46b0-41b0-9c9a-e12345fe5cf5"
      },
      "execution_count": null,
      "outputs": [
        {
          "output_type": "stream",
          "name": "stdout",
          "text": [
            "(1, 2, 3, 4, 5, 6)\n"
          ]
        }
      ]
    },
    {
      "cell_type": "code",
      "source": [
        "#Interview Question\n",
        "a = (1,2,3,4,5)\n",
        "b = a[:2]+a[3:]\n",
        "print(b)\n"
      ],
      "metadata": {
        "colab": {
          "base_uri": "https://localhost:8080/"
        },
        "id": "LRGcG8wG6Adb",
        "outputId": "b63a98eb-200e-401e-f031-49c1d1773ef4"
      },
      "execution_count": null,
      "outputs": [
        {
          "output_type": "stream",
          "name": "stdout",
          "text": [
            "(1, 2, 4, 5)\n"
          ]
        }
      ]
    },
    {
      "cell_type": "code",
      "source": [
        "# Basic Operation\n",
        "# concatenation of the tuple(+)\n",
        "a = (1,2,3,4,5)\n",
        "b = (6,7,8,9,10)\n",
        "print(a+b)"
      ],
      "metadata": {
        "colab": {
          "base_uri": "https://localhost:8080/"
        },
        "id": "Qe1IOE5w67Jr",
        "outputId": "dda47fab-8036-49ab-e0ec-bf43d2524c13"
      },
      "execution_count": null,
      "outputs": [
        {
          "output_type": "stream",
          "name": "stdout",
          "text": [
            "(1, 2, 3, 4, 5, 6, 7, 8, 9, 10)\n"
          ]
        }
      ]
    },
    {
      "cell_type": "code",
      "source": [
        "# Repetion(*)\n",
        "c = (1,2,3,4,5)\n",
        "print((c)*4)\n"
      ],
      "metadata": {
        "colab": {
          "base_uri": "https://localhost:8080/"
        },
        "id": "B4oDoWiv7OkT",
        "outputId": "6db37600-1198-4510-e797-9c7693d1bd1b"
      },
      "execution_count": null,
      "outputs": [
        {
          "output_type": "stream",
          "name": "stdout",
          "text": [
            "(1, 2, 3, 4, 5, 1, 2, 3, 4, 5, 1, 2, 3, 4, 5, 1, 2, 3, 4, 5)\n"
          ]
        }
      ]
    },
    {
      "cell_type": "code",
      "source": [
        "# Membership of the tuple:--\n",
        "c = (1,2,3,4,5)\n",
        "print(1 in c)\n",
        "print(10 in c)"
      ],
      "metadata": {
        "colab": {
          "base_uri": "https://localhost:8080/"
        },
        "id": "0P2g-jMd7agl",
        "outputId": "aa3dd20c-2849-4d05-8a6b-6d9e0e09524c"
      },
      "execution_count": null,
      "outputs": [
        {
          "output_type": "stream",
          "name": "stdout",
          "text": [
            "True\n",
            "False\n"
          ]
        }
      ]
    },
    {
      "cell_type": "code",
      "source": [
        "#Traversing the tuple:--\n",
        "tp1 = (1,2,3,4,5,6,7,8,9)\n",
        "for i in tp1:\n",
        "  print(i)\n",
        "\n",
        "\n",
        "\n",
        "\n",
        "\n",
        "tp2 = (1,2,3,4,(5,6,7,8),9,10)\n",
        "for i in tp2:\n",
        "  print(i)\n",
        "\n",
        "\n"
      ],
      "metadata": {
        "colab": {
          "base_uri": "https://localhost:8080/"
        },
        "id": "EAS5Laiv7mEb",
        "outputId": "18a45a79-b97e-4aad-94a6-26e5fa457e0e"
      },
      "execution_count": null,
      "outputs": [
        {
          "output_type": "stream",
          "name": "stdout",
          "text": [
            "1\n",
            "2\n",
            "3\n",
            "4\n",
            "5\n",
            "6\n",
            "7\n",
            "8\n",
            "9\n",
            "1\n",
            "2\n",
            "3\n",
            "4\n",
            "(5, 6, 7, 8)\n",
            "9\n",
            "10\n",
            "1\n",
            "2\n",
            "3\n",
            "5\n",
            "6\n",
            "7\n",
            "8\n",
            "9\n",
            "10\n"
          ]
        }
      ]
    },
    {
      "cell_type": "code",
      "source": [
        "# Nested tuple traversing:-\n",
        "tp3 = (1,2,3,(5,6,7,8),9,10)\n",
        "for i in tp3:\n",
        "  if isinstance(i, tuple):\n",
        "    for j in i:\n",
        "      print(j)\n",
        "  else:\n",
        "    print(i)\n",
        "\n"
      ],
      "metadata": {
        "colab": {
          "base_uri": "https://localhost:8080/"
        },
        "id": "B6fGu1wV9vxx",
        "outputId": "32e38330-f514-4e9c-d24f-edcf4f82601d"
      },
      "execution_count": null,
      "outputs": [
        {
          "output_type": "stream",
          "name": "stdout",
          "text": [
            "1\n",
            "2\n",
            "3\n",
            "(5, 6, 7, 8)\n",
            "5\n",
            "6\n",
            "7\n",
            "8\n",
            "9\n",
            "10\n"
          ]
        }
      ]
    },
    {
      "cell_type": "code",
      "source": [
        "#How to Update the values inside the tuple:--\n",
        "\n",
        "tpl = (1,2,3,4,5,6)\n",
        "print(\"Tuple:-\" ,tpl)\n",
        "tpl_to_lst = list(tpl)\n",
        "print(\"List:-\",tpl_to_lst)\n",
        "\n",
        "tpl_to_lst[0] = 100\n",
        "tpl_to_lst[3] = (20,30,40,50)\n",
        "print(tpl_to_lst)\n",
        "\n",
        "lst_to_tpl = tuple(tpl_to_lst)\n",
        "lst_to_tpls = tuple(tpl_to_lst[3])\n",
        "print(lst_to_tpls)\n",
        "print(lst_to_tpl)\n",
        "\n",
        "\n",
        "\n"
      ],
      "metadata": {
        "colab": {
          "base_uri": "https://localhost:8080/"
        },
        "id": "bg5tJpOP842F",
        "outputId": "201fcf58-a636-46f8-c90d-08bcba05b778"
      },
      "execution_count": null,
      "outputs": [
        {
          "output_type": "stream",
          "name": "stdout",
          "text": [
            "Tuple:- (1, 2, 3, 4, 5, 6)\n",
            "List:- [1, 2, 3, 4, 5, 6]\n",
            "[100, 2, 3, (20, 30, 40, 50), 5, 6]\n",
            "(20, 30, 40, 50)\n",
            "(100, 2, 3, (20, 30, 40, 50), 5, 6)\n"
          ]
        }
      ]
    },
    {
      "cell_type": "code",
      "source": [
        "tpls = (1,2,3,4,5,6)\n",
        "print(len(tpls))\n",
        "\n",
        "print(max(tpls))\n",
        "print(min(tpls))\n",
        "\n",
        "\n",
        "\n"
      ],
      "metadata": {
        "colab": {
          "base_uri": "https://localhost:8080/"
        },
        "id": "NOAnoEzdBFiw",
        "outputId": "577fafd9-ad21-4eb3-867e-16aca1929235"
      },
      "execution_count": null,
      "outputs": [
        {
          "output_type": "stream",
          "name": "stdout",
          "text": [
            "6\n",
            "6\n",
            "1\n",
            "<zip object at 0x7d05f997f280>\n"
          ]
        }
      ]
    },
    {
      "cell_type": "code",
      "source": [
        "# zip() functions:-\n",
        "\n",
        "tpls = (1,2,3,4,5,6)\n",
        "tpls2 =('A', 'B' ,'C', 'D' , 'E' , 'F')\n",
        "\n",
        "tupls3 = zip(tpls , tpls2)\n",
        "print(tupls3)\n",
        "print(list(tupls3))\n"
      ],
      "metadata": {
        "colab": {
          "base_uri": "https://localhost:8080/"
        },
        "id": "fp--hNl7Bo8o",
        "outputId": "db5a780a-5a25-4280-ab5e-04d67942125f"
      },
      "execution_count": null,
      "outputs": [
        {
          "output_type": "stream",
          "name": "stdout",
          "text": [
            "<zip object at 0x7d05f99bfdc0>\n",
            "[(1, 'A'), (2, 'B'), (3, 'C'), (4, 'D'), (5, 'E'), (6, 'F')]\n"
          ]
        }
      ]
    },
    {
      "cell_type": "code",
      "source": [
        "#Program to create alist of tuples with the first element as the number and second element as the square of the number\n",
        "\n",
        "x = int(input(\"Enter a first element:\"))\n",
        "y = int(input(\"Enter the second element:\"))\n",
        "\n",
        "res = [(i ,i**2)\n",
        "        for i in range(x , y+1)]\n",
        "print(res)\n",
        "\n"
      ],
      "metadata": {
        "colab": {
          "base_uri": "https://localhost:8080/"
        },
        "id": "UV8OGn9nCBHm",
        "outputId": "7e941099-c625-42de-fca1-cadbf7f15ede"
      },
      "execution_count": null,
      "outputs": [
        {
          "output_type": "stream",
          "name": "stdout",
          "text": [
            "Enter a first element:1\n",
            "Enter the second element:5\n",
            "[(1, 1), (2, 4), (3, 9), (4, 16), (5, 25)]\n"
          ]
        }
      ]
    },
    {
      "cell_type": "code",
      "source": [
        "#Program to convert the tuple into a string\n",
        "tup = ('C', 'O', 'A', 'C' ,'H', 'X')\n",
        "str = ''.join(tup)\n",
        "print(str)\n",
        "\n",
        "\n",
        "string_res = ''\n",
        "for i in tup:\n",
        "  string_res +=i\n",
        "\n",
        "print(string_res)\n"
      ],
      "metadata": {
        "colab": {
          "base_uri": "https://localhost:8080/"
        },
        "id": "lcfUlbvBDyST",
        "outputId": "ed101977-d1a2-46a7-a19f-c6c0c75a05bc"
      },
      "execution_count": null,
      "outputs": [
        {
          "output_type": "stream",
          "name": "stdout",
          "text": [
            "COACHX\n",
            "COACHX\n"
          ]
        }
      ]
    },
    {
      "cell_type": "code",
      "source": [
        "s1 = \"Python Programming\"\n",
        "s1.find(\"Prog\", 5)\n",
        "s1.find(\"Prog\", 7)\n"
      ],
      "metadata": {
        "colab": {
          "base_uri": "https://localhost:8080/"
        },
        "id": "uV7q0AEDGQma",
        "outputId": "802819d7-b447-452f-87af-53db43f2c5bd"
      },
      "execution_count": null,
      "outputs": [
        {
          "output_type": "execute_result",
          "data": {
            "text/plain": [
              "7"
            ]
          },
          "metadata": {},
          "execution_count": 34
        }
      ]
    },
    {
      "cell_type": "code",
      "source": [
        "# Assignments :-\n",
        "# 1)Program to create a tuple with numbers and print one item\n"
      ],
      "metadata": {
        "id": "kHYfTE0MHEQg"
      },
      "execution_count": null,
      "outputs": []
    },
    {
      "cell_type": "code",
      "source": [
        "#2) Program to unpack a tuple in several variables\n"
      ],
      "metadata": {
        "id": "D-W5WF9GHbvX"
      },
      "execution_count": null,
      "outputs": []
    },
    {
      "cell_type": "code",
      "source": [
        "#3) Write a program to add an item in a tuple\n"
      ],
      "metadata": {
        "id": "-LUvG_JoHjsX"
      },
      "execution_count": null,
      "outputs": []
    },
    {
      "cell_type": "code",
      "source": [
        "#4) Write a Program to find the repeated items in the tuple\n"
      ],
      "metadata": {
        "id": "UWo87uNqHqsA"
      },
      "execution_count": null,
      "outputs": []
    },
    {
      "cell_type": "code",
      "source": [
        "#5) Create a tuple sequance from 1 to 10 and sperate even and odd nos from it\n",
        "\n",
        "\n"
      ],
      "metadata": {
        "id": "MQiBpfRcH2Qn"
      },
      "execution_count": null,
      "outputs": []
    },
    {
      "cell_type": "code",
      "source": [
        "# 1)Program to create a tuple with numbers and print one item\n",
        "\n",
        "#2) Program to unpack a tuple in several variables\n",
        "\n",
        "#3) Write a program to add an item in a tuple\n",
        "\n",
        "#4) Write a Program to find the repeated items in the tuple\n",
        "\n",
        "#5) Create a tuple sequance from 1 to 10 and sperate even and odd nos from it\n",
        "\n"
      ],
      "metadata": {
        "id": "mybqNKObKmBf"
      },
      "execution_count": null,
      "outputs": []
    },
    {
      "cell_type": "code",
      "source": [
        "#Which of the following would give an error?\n",
        "\n",
        "# A. list1=[]\n",
        "# B. list1=[]*3\n",
        "# C. list1=[2,8,7]\n",
        "# D. None of the above\n",
        "\n",
        "\n",
        "\n",
        "# 2. Which of the following is True regarding lists in Python?\n",
        "\n",
        "# A. Lists are immutable.\n",
        "# B. Size of the lists must be specified before its initialization\n",
        "# C. Elements of lists are stored in contagious memory location.\n",
        "# D. size(list1) command is used to find the size of lists.\n",
        "\n",
        "\n",
        "\n",
        "# 3. What will be the output of below Python code?\n",
        "\n",
        "# list1=[8,0,9,5]\n",
        "\n",
        "# print(list1[::-1])\n",
        "# A. [5,9,0,8]\n",
        "# B. [8,0,9]\n",
        "# C. [8,0,9,5]\n",
        "# D. [0,9,5]\n",
        "\n",
        "\n",
        "\n",
        "# 4. Which of the following will give output as [23,2,9,75] ?\n",
        "\n",
        "# If list1=[6,23,3,2,0,9,8,75]\n",
        "# A. print(list1[1:7:2])\n",
        "# B. print(list1[0:7:2])\n",
        "# C. print(list1[1:8:2])\n",
        "# D. print(list1[0:8:2])\n",
        "\n",
        "\n",
        "# 5. The marks of a student on 6 subjects are stored in a list, list1=[80,66,94,87,99,95]. How can the student's average mark be calculated?\n",
        "\n",
        "# A. print(avg(list1))\n",
        "# B. print(sum(list1)/len(list1))\n",
        "# C. print(sum(list1)/sizeof(list1))\n",
        "# D. print(total(list1)/len(list1))\n",
        "\n",
        "\n",
        "\n",
        "# 6. What will be the output of following Python code?\n",
        "\n",
        "# list1=[\"Python\",\"Java\",\"c\",\"C\",\"C++\"]\n",
        "\n",
        "# print(min(list1))\n",
        "# A. c\n",
        "# B. C++\n",
        "# C. C\n",
        "# D. min function cannot be used on string elements\n",
        "\n",
        "\n",
        "# 7. The elements of a list are arranged in descending order. Which of the following two will give same outputs?\n",
        "#    i. print(list_name.sort())\n",
        "#    ii. print(max(list_name))\n",
        "#    iii. print(list_name.reverse())\n",
        "#    iv. print(list_name[-1])\n",
        "\n",
        "# A. i, ii\n",
        "# B. i, iii\n",
        "# C. ii, iii\n",
        "# D. iii, iv\n",
        "\n",
        "\n",
        "\n",
        "# 8.  What will be the result after the execution of above Python code?\n",
        "\n",
        "# list1=[3,2,5,7,3,6]\n",
        "\n",
        "# list1.pop(3)\n",
        "\n",
        "# print(list1)\n",
        "# A. [3,2,5,3,6]\n",
        "# B. [2,5,7,3,6]\n",
        "# C. [2,5,7,6]\n",
        "# D. [3,2,5,7,3,6]\n",
        "\n",
        "\n",
        "\n",
        "# 9. What will be the output of below Python code?\n",
        "\n",
        "# list1=[1,3,5,2,4,6,2]\n",
        "\n",
        "# list1.remove(2)\n",
        "\n",
        "# print(sum(list1))\n",
        "# A. 18\n",
        "# B. 19\n",
        "# C. 21\n",
        "# D. 22\n",
        "\n",
        "\n",
        "\n",
        "# 10. What will be the output of below Python code?\n",
        "\n",
        "# list1=[\"tom\",\"mary\",\"simon\"]\n",
        "\n",
        "# list1.insert(5,8)\n",
        "\n",
        "# print(list1)\n",
        "# A. [\"tom\", \"mary\", \"simon\", 5]\n",
        "# B. [\"tom\", \"mary\", \"simon\", 8]\n",
        "# C. [8, \"tom\", \"mary\", \"simon\"]\n",
        "# D. Error\n"
      ],
      "metadata": {
        "id": "J2rlLZ2LKqE4"
      },
      "execution_count": null,
      "outputs": []
    },
    {
      "cell_type": "code",
      "source": [
        "# Which of the following creates a tuple?\n",
        "\n",
        "# A. tuple1=(\"a\",\"b\")\n",
        "# B. tuple1[2]=(\"a\",\"b\")\n",
        "# C. tuple1=(5)*2\n",
        "# D. None of the above\n",
        "\n",
        "\n",
        "\n",
        "# 2. Choose the correct option with respect to Python.\n",
        "\n",
        "# A. Both tuples and lists are immutable.\n",
        "# B. Tuples are immutable while lists are mutable.\n",
        "# C. Both tuples and lists are mutable.\n",
        "# D. Tuples are mutable while lists are immutable.\n",
        "\n",
        "\n",
        "\n",
        "# 3. Choose the correct option.\n",
        "\n",
        "# A. In Python, a tuple can contain only integers as its elements.\n",
        "# B. In Python, a tuple can contain only strings as its elements.\n",
        "# C. In Python, a tuple can contain both integers and strings as its elements.\n",
        "# D. In Python, a tuple can contain either string or integer but not both at a time.\n",
        "\n",
        "\n",
        "\n",
        "# 4. What will be the output of below Python code?\n",
        "\n",
        "# tuple1=(5,1,7,6,2)\n",
        "\n",
        "# tuple1.pop(2)\n",
        "\n",
        "# print(tuple1)\n",
        "\n",
        "# A. (5,1,6,2)\n",
        "# B. (5,1,7,6)\n",
        "# C. (5,1,7,6,2)\n",
        "# D. Error\n",
        "\n",
        "\n",
        "\n",
        "# 5. What will be the output of below Python code?\n",
        "\n",
        "# tuple1=(2,4,3)\n",
        "\n",
        "# tuple3=tuple1*2\n",
        "\n",
        "# print(tuple3)\n",
        "\n",
        "# A. (4,8,6)\n",
        "# B. (2,4,3,2,4,3)\n",
        "# C. (2,2,4,4,3,3)\n",
        "# D. Error\n",
        "\n",
        "\n",
        "\n",
        "# 6. What will be the output of below Python code?\n",
        "\n",
        "# tupl=(\"annie\",\"hena\",\"sid\")\n",
        "\n",
        "# print(tupl[-3:0])\n",
        "\n",
        "# A. (\"annie\")\n",
        "# B. ()\n",
        "# C. None\n",
        "# D. Error as slicing is not possible in tuple.\n",
        "\n",
        "\n",
        "\n",
        "# 7. Which of the following options will not result in an error when performed on tuples in Python where tupl=(5,2,7,0,3)?\n",
        "\n",
        "# A. tupl[1]=2\n",
        "# B. tupl.append(2)\n",
        "# C. tupl1=tupl+tupl\n",
        "# D. tupl.sort()\n",
        "\n",
        "\n",
        "\n",
        "# 8. What will be the output of below Python code?\n",
        "\n",
        "# tupl=()\n",
        "\n",
        "# tupl1=tupl*2\n",
        "\n",
        "# print(len(tupl1))\n",
        "# A. 0\n",
        "# B. 2\n",
        "# C. 1\n",
        "# D. Error as tuple object has no attribute to len\n",
        "\n",
        "\n",
        "\n",
        "# 9. What will be the output of below Python code?\n",
        "\n",
        "# tupl=([2,3],\"abc\",0,9)\n",
        "\n",
        "# tupl[0][1]=1\n",
        "\n",
        "# print(tupl)\n",
        "\n",
        "# A. ([2,3],\"abc\",0,9)\n",
        "# B. ([1,3],\"abc\",0,9)\n",
        "# C. ([2,1],\"abc\",0,9)\n",
        "# D. Error\n",
        "\n",
        "\n",
        "\n",
        "# 10. Which of the following two Python codes will give same output?\n",
        "# (i) print(tupl[:-1])\n",
        "# (ii) print(tupl[0:5])\n",
        "# (iii) print(tupl[0:4])\n",
        "# (iv) print(tupl[-4:])\n",
        "\n",
        "# If tupl=(5,3,1,9,0)\n",
        "\n",
        "# A. i, ii\n",
        "# B. ii, iv\n",
        "# C. i, iv\n",
        "# D. i, iii\n",
        "\n"
      ],
      "metadata": {
        "id": "YhWmFB4-Kr8n"
      },
      "execution_count": null,
      "outputs": []
    }
  ]
}