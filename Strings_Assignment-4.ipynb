{
  "nbformat": 4,
  "nbformat_minor": 0,
  "metadata": {
    "colab": {
      "provenance": [],
      "include_colab_link": true
    },
    "kernelspec": {
      "name": "python3",
      "display_name": "Python 3"
    },
    "language_info": {
      "name": "python"
    }
  },
  "cells": [
    {
      "cell_type": "markdown",
      "metadata": {
        "id": "view-in-github",
        "colab_type": "text"
      },
      "source": [
        "<a href=\"https://colab.research.google.com/github/DivyaPatwari/Python-Assignments/blob/main/Strings_Assignment-4.ipynb\" target=\"_parent\"><img src=\"https://colab.research.google.com/assets/colab-badge.svg\" alt=\"Open In Colab\"/></a>"
      ]
    },
    {
      "cell_type": "code",
      "execution_count": null,
      "metadata": {
        "colab": {
          "base_uri": "https://localhost:8080/"
        },
        "id": "sBRPd9iFvHvg",
        "outputId": "0501f10f-6090-41ef-d619-e3a92f65af88"
      },
      "outputs": [
        {
          "output_type": "stream",
          "name": "stdout",
          "text": [
            "The Single Quoted String is :-- Coachx\n",
            "The Double Quoted String is :-- Coachx\n",
            " Hello \n",
            "Triple Quoted \n",
            "              String is :--  Hello \n",
            "                            welcome to the world of Python\n"
          ]
        }
      ],
      "source": [
        "# Strings :-\n",
        "#Sequence of characters or combinations of it\n",
        "\n",
        "# In How many you can represent the string:-\n",
        "\n",
        "single_quoted = 'Coachx'\n",
        "print(\"The Single Quoted String is :--\" , single_quoted)\n",
        "\n",
        "double_quoted = \"Coachx\"\n",
        "print(\"The Double Quoted String is :--\" , double_quoted) #most usable one\n",
        "\n",
        "my_string = ''' Hello '''\n",
        "print(my_string)\n",
        "\n",
        "\n",
        "triple_quoted_str = \"\"\" Hello\n",
        "                            welcome to the world of Python\"\"\"\n",
        "\n",
        "print(\"\"\"Triple Quoted\n",
        "              String is :--\"\"\" ,triple_quoted_str)\n",
        "\n",
        "\n"
      ]
    },
    {
      "cell_type": "code",
      "source": [
        "#Very IMp :--\n",
        "# Indexing always starts from zero\n",
        "# Index start from 0 to n-1(n is the total number of charcaters)\n",
        "#Even space is Counted in indexing\n",
        "\n"
      ],
      "metadata": {
        "id": "U0qS57qTxVux"
      },
      "execution_count": null,
      "outputs": []
    },
    {
      "cell_type": "code",
      "source": [
        "Lang = \"Python\"\n",
        "print(Lang)\n"
      ],
      "metadata": {
        "colab": {
          "base_uri": "https://localhost:8080/"
        },
        "id": "ndslDd92vieH",
        "outputId": "c12758f6-bd52-4db6-ced5-b2f247a0c661"
      },
      "execution_count": null,
      "outputs": [
        {
          "output_type": "stream",
          "name": "stdout",
          "text": [
            "Python\n"
          ]
        }
      ]
    },
    {
      "cell_type": "code",
      "source": [
        "s = \"Hello Python\"\n",
        "print(s)\n",
        "\n",
        "#Single accessible indexing\n",
        "print(s[0])\n",
        "print(s[1])\n",
        "print(s[4])\n",
        "print(s[6])\n",
        "\n",
        "#Pair Accessible Indexing:-\n",
        "# var_name[start_index : ending_index]\n",
        "print(s[0:5])\n",
        "print(s[6:10])\n",
        "print(s[2:]) # this is for printing all characters after start indexes\n",
        "print(s[:6]) # This is for printing the all characters before ending indexes\n",
        "\n",
        "\n",
        "#Negative Indexing :--\n",
        "print(s[-1])\n",
        "print(s[-5:])\n",
        "print(s[:-5])\n",
        "\n",
        "\n",
        "#Stepwise Indexing:-(Advanced Slicing)\n",
        "print(s[1:10:2])\n",
        "\n"
      ],
      "metadata": {
        "colab": {
          "base_uri": "https://localhost:8080/"
        },
        "id": "uolwiKYwyU_Y",
        "outputId": "47041f38-3c11-4ce9-a3a6-208d5dc93d12"
      },
      "execution_count": null,
      "outputs": [
        {
          "output_type": "stream",
          "name": "stdout",
          "text": [
            "Hello Python\n",
            "H\n",
            "e\n",
            "o\n",
            "P\n",
            "Hello\n",
            "Pyth\n",
            "llo Python\n",
            "Hello \n",
            "n\n",
            "ython\n",
            "Hello P\n",
            "el yh\n"
          ]
        }
      ]
    },
    {
      "cell_type": "code",
      "source": [
        "#Manipulations of the strings :--\n",
        "msg = \"Hello World!\"\n",
        "print(\"Updated String :-\", msg[:6]+'Python')\n",
        "print(type(msg))\n",
        "\n",
        "print(id(msg))"
      ],
      "metadata": {
        "colab": {
          "base_uri": "https://localhost:8080/"
        },
        "id": "LgEPwDOX3lvX",
        "outputId": "2ccc4462-be34-4939-d472-7beb9ad6beef"
      },
      "execution_count": null,
      "outputs": [
        {
          "output_type": "stream",
          "name": "stdout",
          "text": [
            "Updated String :- Hello Python\n",
            "<class 'str'>\n",
            "137939528396976\n"
          ]
        }
      ]
    },
    {
      "cell_type": "code",
      "source": [
        "#Escape Charcaters\n",
        "# \\n :- newline\n",
        "# \\b:- backspace\n",
        "# \\xnos :- hex representations\n",
        "\n",
        "\n",
        "print(\"This is printed\\n in two lines\")\n",
        "print(\"This is \\x48\\x45\\x58 representations\")"
      ],
      "metadata": {
        "colab": {
          "base_uri": "https://localhost:8080/"
        },
        "id": "-8y2lE854KKN",
        "outputId": "ff4b6fb0-8403-48fb-909e-3d6f0a8f8ab4"
      },
      "execution_count": null,
      "outputs": [
        {
          "output_type": "stream",
          "name": "stdout",
          "text": [
            "This is printed\n",
            " in two lines\n",
            "This is HEX representations\n"
          ]
        }
      ]
    },
    {
      "cell_type": "code",
      "source": [
        "#String Speical Operators :---\n",
        "# + :- Concatenations of the string\n",
        "# * :- Repetition of the strings\n",
        "# [] :- Slice\n",
        "# [:] :- Range of slice\n",
        "# in  and not in :- membership\n",
        "# % :- String  Formatting"
      ],
      "metadata": {
        "id": "9PpI-qf85ZNe"
      },
      "execution_count": null,
      "outputs": []
    },
    {
      "cell_type": "code",
      "source": [
        "\n",
        "# + :- Concatenations of the string\n",
        "msg = \"Hello World!\"\n",
        "print(\"Updated String :-\", msg[:6]+'Python')\n",
        "print(type(msg))\n",
        "\n",
        "print(id(msg))\n",
        "\n",
        "\n",
        "str1 = \"Hello\"\n",
        "str2 = \" Python\"\n",
        "str3 = str1+str2\n",
        "print(str3)\n",
        "\n"
      ],
      "metadata": {
        "colab": {
          "base_uri": "https://localhost:8080/"
        },
        "id": "1fCCEapD6tZ9",
        "outputId": "925ff6e1-fcf9-4cfe-8fa1-55e722efd9da"
      },
      "execution_count": null,
      "outputs": [
        {
          "output_type": "stream",
          "name": "stdout",
          "text": [
            "Updated String :- Hello Python\n",
            "<class 'str'>\n",
            "137939040263472\n",
            "Hello Python\n"
          ]
        }
      ]
    },
    {
      "cell_type": "code",
      "source": [
        "# * :- Repetition of the strings\n",
        "str_n = \"Hello \"\n",
        "print((str_n)*10)\n",
        "\n",
        "print(\"H\" in str_n)\n",
        "print(\"P\" in str_n)\n",
        "\n",
        "print(\"H\" not in str_n)\n",
        "print(\"P\" not in str_n)"
      ],
      "metadata": {
        "colab": {
          "base_uri": "https://localhost:8080/"
        },
        "id": "a8qNqR5i68a_",
        "outputId": "613b52c7-4cb8-457d-ffdd-99fb511f1329"
      },
      "execution_count": null,
      "outputs": [
        {
          "output_type": "stream",
          "name": "stdout",
          "text": [
            "Hello Hello Hello Hello Hello Hello Hello Hello Hello Hello \n",
            "True\n",
            "False\n",
            "False\n",
            "True\n"
          ]
        }
      ]
    },
    {
      "cell_type": "code",
      "source": [
        "# % :- String  Formatting :--\n",
        "# %c :- chacracter\n",
        "# %s :- string\n",
        "\n",
        "\n",
        "val = \"R\"\n",
        "print(\"The name Ram starts with letter = %c \"%val)\n",
        "\n",
        "\n",
        "val = \"Ram\"\n",
        "print(\"The name Ram starts with letter = %s \"%val)\n"
      ],
      "metadata": {
        "colab": {
          "base_uri": "https://localhost:8080/"
        },
        "id": "Qy8HQVgX7YN1",
        "outputId": "52d80472-4a15-4cf6-d3ca-a597b9390ed5"
      },
      "execution_count": null,
      "outputs": [
        {
          "output_type": "stream",
          "name": "stdout",
          "text": [
            "The name Ram starts with letter = R \n",
            "The name Ram starts with letter = Ram \n"
          ]
        }
      ]
    },
    {
      "cell_type": "code",
      "source": [
        "#Built-in String Methods:---\n",
        "#Make the first letter of the string Capital:-\n",
        "s1 = \"python Programming\"\n",
        "print(s1.capitalize())\n",
        "\n",
        "\n",
        "#Count the number of times str occurs or single characters occurs in the str\n",
        "print(s1.count('o'))\n",
        "\n",
        "print(s1.count('o' , 5 , 18))\n",
        "\n",
        "\n",
        "\n",
        "#enumerate():--\n",
        "s2 = [\"Orange\" , \"Mango\" , \"Banana\" , \"PineApple\"]\n",
        "s3 = enumerate(s2)\n",
        "print(list(s3))\n",
        "\n",
        "s3 = enumerate(s2,1)\n",
        "print(list(s3))\n",
        "\n",
        "\n",
        "#find(str , beg , end):--\n",
        "print(s1.find(\"Prog\"))\n",
        "\n",
        "print(s1.find(\"Prog\", 15))\n",
        "\n",
        "\n"
      ],
      "metadata": {
        "colab": {
          "base_uri": "https://localhost:8080/"
        },
        "id": "OxqHhPYO9DFn",
        "outputId": "2fc879b8-03b0-458c-f392-83eb8c2fc82c"
      },
      "execution_count": null,
      "outputs": [
        {
          "output_type": "stream",
          "name": "stdout",
          "text": [
            "Python programming\n",
            "2\n",
            "1\n",
            "[(0, 'Orange'), (1, 'Mango'), (2, 'Banana'), (3, 'PineApple')]\n",
            "[(1, 'Orange'), (2, 'Mango'), (3, 'Banana'), (4, 'PineApple')]\n",
            "7\n",
            "-1\n"
          ]
        }
      ]
    },
    {
      "cell_type": "code",
      "source": [
        "# isalnum():- it Checks the whether string have alpha numeric characters ot not\n",
        "\n",
        "\n",
        "str1 = \"python3\"\n",
        "print(str1.isalnum())\n",
        "\n",
        "str2 = \"Python\"\n",
        "print(str2.isalnum())\n",
        "\n",
        "nos3 = \"1234\"\n",
        "print(nos3.isalnum())\n",
        "\n",
        "print(s1.isalnum())\n",
        "\n",
        "\n",
        "\n",
        "\n"
      ],
      "metadata": {
        "colab": {
          "base_uri": "https://localhost:8080/"
        },
        "id": "rv7JY6XsB5Bj",
        "outputId": "cdeb3c25-0a00-4c3f-ce5e-c237020dd4da"
      },
      "execution_count": null,
      "outputs": [
        {
          "output_type": "stream",
          "name": "stdout",
          "text": [
            "True\n",
            "True\n",
            "True\n",
            "False\n"
          ]
        }
      ]
    },
    {
      "cell_type": "code",
      "source": [
        "# Assignments nos - 4  :"
      ],
      "metadata": {
        "id": "QFd1yIb9Jo0Q"
      },
      "execution_count": null,
      "outputs": []
    },
    {
      "cell_type": "code",
      "source": [
        "#Program to check the nos is palindrome or not\n",
        "\n",
        "num = int(input(\"Enter a number to check if it is palindrome or not: \"))\n",
        "temp = num\n",
        "rev=0\n",
        "while (num>0):\n",
        "  rem=num%10\n",
        "  rev=rev*10+rem\n",
        "  num = num//10\n",
        "print (rev)\n",
        "if(temp==rev):\n",
        "  print(\"Number is a palindrome\")\n",
        "else:\n",
        "  print(\"Not a palindrome\")\n",
        "\n",
        "\n"
      ],
      "metadata": {
        "id": "KIU_Jg9KEoho",
        "colab": {
          "base_uri": "https://localhost:8080/"
        },
        "outputId": "f9b35854-6aae-4bef-8267-d4818be907ee"
      },
      "execution_count": null,
      "outputs": [
        {
          "output_type": "stream",
          "name": "stdout",
          "text": [
            "Enter a number to check if it is palindrome or not: 321\n",
            "123\n",
            "Not a palindrome\n"
          ]
        }
      ]
    },
    {
      "cell_type": "code",
      "source": [
        "# #Print the following pattern:-\n",
        "# O/P:-\n",
        "# *\n",
        "# * *\n",
        "# * * *\n",
        "# * * * *\n",
        "# * * * * *\n",
        "\n",
        "\n",
        "for i in range (0,5):\n",
        "  for j in range (0, i+1):\n",
        "    print(\"*\", end=\" \")\n",
        "  print(\"\")\n",
        "\n",
        "\n",
        "\n"
      ],
      "metadata": {
        "id": "GO9N-m44FiRv",
        "colab": {
          "base_uri": "https://localhost:8080/"
        },
        "outputId": "4e00ac9c-ad1d-4765-d8d3-62e0f26ff7a6"
      },
      "execution_count": null,
      "outputs": [
        {
          "output_type": "stream",
          "name": "stdout",
          "text": [
            "* \n",
            "* * \n",
            "* * * \n",
            "* * * * \n",
            "* * * * * \n"
          ]
        }
      ]
    },
    {
      "cell_type": "code",
      "source": [
        "# #Print the following pattern:-\n",
        "# O/P:-\n",
        "# * * * * *\n",
        "# * * * *\n",
        "# * * *\n",
        "# * *\n",
        "# *\n",
        "\n",
        "\n",
        "for i in range(6, 0, -1):\n",
        "    for j in range(0, i - 1):\n",
        "        print(\"*\", end=' ')\n",
        "    print(\" \")\n"
      ],
      "metadata": {
        "id": "Qo2kRZ55F8ko",
        "colab": {
          "base_uri": "https://localhost:8080/"
        },
        "outputId": "c6e3b301-ecfa-4e19-d85e-7b97cda4e103"
      },
      "execution_count": null,
      "outputs": [
        {
          "output_type": "stream",
          "name": "stdout",
          "text": [
            "* * * * *  \n",
            "* * * *  \n",
            "* * *  \n",
            "* *  \n",
            "*  \n",
            " \n"
          ]
        }
      ]
    },
    {
      "cell_type": "code",
      "source": [
        "\n",
        "# Try out this built in functions :-\n",
        "# isspace()\n",
        "# isalpha()\n",
        "# islower()\n",
        "# isupper()\n",
        "# isnumeric()\n",
        "\n",
        "\n",
        "str1 = \" \"\n",
        "str2 = \"Hi\"\n",
        "str3 = \"34\"\n",
        "str4 = \"DIVYA\"\n",
        "print(str1.isspace())\n",
        "print(str2.isalpha())\n",
        "print(str3.isnumeric())\n",
        "print(str4.islower())\n"
      ],
      "metadata": {
        "id": "-Z5rHkgbDAoY",
        "colab": {
          "base_uri": "https://localhost:8080/"
        },
        "outputId": "4bbe8015-a7db-4b86-f59e-37d2340168e5"
      },
      "execution_count": 9,
      "outputs": [
        {
          "output_type": "stream",
          "name": "stdout",
          "text": [
            "True\n",
            "True\n",
            "False\n",
            "True\n"
          ]
        }
      ]
    },
    {
      "cell_type": "code",
      "source": [
        "#Program to check the string is palindrome or not:--\n",
        "# Example if string is :-\n",
        "# 1)nitin then its palindrome is nitin\n",
        "# 2)abc then its palindrome is cba\n",
        "\n",
        "name = str(input(\"Enter a name/string to check if it is palindrome or not: \"))\n",
        "rev = name[::-1]\n",
        "if(name==rev):\n",
        "  print(\"it is a palindrome\")\n",
        "else:\n",
        "  print(\"Not a palindrome\")\n",
        "\n",
        "\n"
      ],
      "metadata": {
        "id": "8Ioy3V78E_3N",
        "colab": {
          "base_uri": "https://localhost:8080/"
        },
        "outputId": "7e009fa6-9e78-496b-bdfa-ba9912518a50"
      },
      "execution_count": null,
      "outputs": [
        {
          "output_type": "stream",
          "name": "stdout",
          "text": [
            "Enter a name/string to check if it is palindrome or not: 321\n",
            "Not a palindrome\n"
          ]
        }
      ]
    },
    {
      "cell_type": "code",
      "source": [
        "# Write a program to replace all the occurence of 'a' with $ in a string\n",
        "\n",
        "text= str(input(\"Enter a string: \"))\n",
        "print (text)\n",
        "newtext = text.replace('a', '$')\n",
        "print(newtext)\n",
        "\n",
        "\n",
        "\n"
      ],
      "metadata": {
        "id": "ZuoHvYciGJWG",
        "colab": {
          "base_uri": "https://localhost:8080/"
        },
        "outputId": "987363ad-725f-4ff7-daed-94252f883dab"
      },
      "execution_count": null,
      "outputs": [
        {
          "output_type": "stream",
          "name": "stdout",
          "text": [
            "Enter a string: amma\n",
            "amma\n",
            "$mm$\n"
          ]
        }
      ]
    },
    {
      "cell_type": "code",
      "source": [
        "from typing_extensions import Concatenate\n",
        "# Program to get a single string from two given strings  , seprated by a and swap the first two characters of each string\n",
        "# Sample String :- 'abc','xyz'\n",
        "# Expected Output :- 'xyzabc'\n",
        "\n",
        "\n",
        "str1= str(input(\"Enter string 1: \"))\n",
        "str2= str(input(\"Enter string 2: \"))\n",
        "\n",
        "str3 = str1+str2\n",
        "print(str3)\n",
        "\n",
        "str3\n"
      ],
      "metadata": {
        "id": "JqkNns9NGa9W",
        "colab": {
          "base_uri": "https://localhost:8080/"
        },
        "outputId": "687f9c96-e47c-4a73-f9b3-b70c178c5076"
      },
      "execution_count": null,
      "outputs": [
        {
          "output_type": "stream",
          "name": "stdout",
          "text": [
            "Enter string 1: one\n",
            "Enter string 2: two\n",
            "onetwo\n"
          ]
        }
      ]
    },
    {
      "cell_type": "code",
      "source": [
        "#Answers below Question without running the programs:---\n",
        "\n",
        "# 1. Which of the following is not used as loop in Python?\n",
        "\n",
        "# A. for loop\n",
        "# B. while loop\n",
        "# C. do-while loop\n",
        "# D. None of the above\n",
        "\n",
        "c. do-while loop\n",
        "\n",
        "\n",
        "\n",
        "# 2. Which of the following is False regarding loops in Python?\n",
        "\n",
        "# A. Loops are used to perform certain tasks repeatedly.\n",
        "# B. While loop is used when multiple statements are to executed repeatedly until the given condition becomes False\n",
        "# C. While loop is used when multiple statements are to executed repeatedly until the given condition becomes True.\n",
        "# D. for loop can be used to iterate through the elements of lists.\n",
        "c. While loop is used when multiple statements are to executed repeatedly until the given condition becomes True\n",
        "\n",
        "\n",
        "# 3. Which of the following is True regarding loops in Python?\n",
        "\n",
        "# A. Loops should be ended with keyword \"end\".\n",
        "# B. No loop can be used to iterate through the elements of strings.\n",
        "# C. Keyword \"break\" can be used to bring control out of the current loop.\n",
        "# D. Keyword \"continue\" is used to continue with the remaining statements inside the loop.\n",
        "\n",
        "C. Keyword \"break\" can be used to bring control out of the current loop.\n",
        "\n",
        "\n",
        "# 4. What will be the output of given Python code?\n",
        "\n",
        "# n=7\n",
        "\n",
        "# c=0\n",
        "\n",
        "# while(n):\n",
        "\n",
        "#     if(n>5):\n",
        "\n",
        "#         c=c+n-1\n",
        "\n",
        "#         n=n-1\n",
        "\n",
        "#     else:\n",
        "\n",
        "#         break\n",
        "\n",
        "# print(n)\n",
        "\n",
        "# print(c)\n",
        "\n",
        "\n",
        "# A. 5 11\n",
        "# B. 5 9\n",
        "# C. 7 11\n",
        "# D. 5 2\n",
        " A. 5 11\n",
        "\n",
        "# 5. What will be the output of given Python code?\n",
        "\n",
        "# str1=\"hello\"\n",
        "# c=0\n",
        "# for x in str1:\n",
        "#    if(x!=\"l\"):\n",
        "#        c=c+1\n",
        "#    else:\n",
        "#        pass\n",
        "# print(c)\n",
        "# A. 2\n",
        "# B. 0\n",
        "# C. 4\n",
        "# D. 3\n",
        "D. 3\n",
        "\n",
        "\n",
        "# 6. Which of the following Python code will give different output from the others?\n",
        "\n",
        "# A. for i in range(0,5):\n",
        "#     print(i)\n",
        "# B. for j in [0,1,2,3,4]:\n",
        "#     print(j)\n",
        "# C. for k in [0,1,2,3,4,5]:\n",
        "#     print(k)\n",
        "# D. for l in range(0,5,1):\n",
        "#     print(l)\n",
        "\n",
        "C. for k in [0,1,2,3,4,5]:\n",
        "   print(k)\n",
        "\n",
        "\n",
        "\n",
        "# 7. How many times will the loop run?\n",
        "\n",
        "# i=2\n",
        "\n",
        "# while(i>0):\n",
        "\n",
        "#     i=i-1\n",
        "\n",
        "# A. 2\n",
        "# B. 3\n",
        "# C. 1\n",
        "# D. 0\n",
        "\n",
        " A. 2\n",
        "\n",
        "\n",
        "\n",
        "# 8. What will be the output of the following Python code?\n",
        "\n",
        "# list1 = [3 , 2 , 5 , 6 , 0 , 7, 9]\n",
        "\n",
        "# sum = 0\n",
        "\n",
        "# sum1 = 0\n",
        "\n",
        "# for elem in list1:\n",
        "\n",
        "#     if (elem % 2 == 0):\n",
        "\n",
        "#         sum = sum + elem\n",
        "\n",
        "#         continue\n",
        "\n",
        "#     if (elem % 3 == 0):\n",
        "\n",
        "#         sum1 = sum1 + elem\n",
        "\n",
        "\n",
        "\n",
        "# print(sum , end=\" \")\n",
        "\n",
        "# print(sum1)\n",
        "\n",
        "# A. 8 9\n",
        "# B. 8 3\n",
        "# C. 2 3\n",
        "# D. 8 12\n",
        "D. 8 12\n",
        "\n",
        "\n",
        "# 9. What will be the output of the following Python code?\n",
        "\n",
        "# str1=\"learn python\"\n",
        "\n",
        "# str2=\"\"\n",
        "\n",
        "# str3=\"\"\n",
        "\n",
        "# for x in str1:\n",
        "\n",
        "#     if(x==\"r\" or x==\"n\" or x==\"p\"):\n",
        "\n",
        "#         str2+=x\n",
        "\n",
        "#         pass\n",
        "\n",
        "#     if(x==\"r\" or x==\"e\" or x==\"a\"):\n",
        "\n",
        "#         str3+=x\n",
        "\n",
        "# print(str2,end=\" \")\n",
        "\n",
        "# print(str3)\n",
        "\n",
        "# A. rnpn ea\n",
        "# B. rnpn ear\n",
        "# C. rnp ea\n",
        "# D. rnp ear\n",
        "B. rnpn ear\n",
        "\n",
        "\n",
        "# 10. What will be the output of the following Python code?\n",
        "\n",
        "# for i in range(0,2,-1):\n",
        "\n",
        "#     print(\"Hello\")\n",
        "\n",
        "# A. Hello\n",
        "# B. Hello Hello\n",
        "# C. No Output\n",
        "# D. Error\n",
        " C. No Output\n",
        "\n",
        "\n",
        "# 11. Which one of the following is a valid Python if statement :\n",
        "\n",
        "# A. if a>=2 :\n",
        "# B. if (a >= 2)\n",
        "# C. if (a => 22)\n",
        "# D. if a >= 22\n",
        " A. if a>=2 :\n",
        "\n",
        "\n",
        "# 12. What keyword would you use to add an alternative condition to an if statement?\n",
        "\n",
        "# A. else if\n",
        "# B. elseif\n",
        "# C. elif\n",
        "# D. None of the above\n",
        "C. elif\n",
        "\n",
        "\n",
        "# 13. Can we write if/else into one line in python?\n",
        "\n",
        "# A. Yes\n",
        "# B. No\n",
        "# C. if/else not used in python\n",
        "# D. None of the above\n",
        "B. No\n",
        "\n",
        "\n",
        "# 14. In a Python program, a control structure:\n",
        "\n",
        "# A. Defines program-specific data structures\n",
        "# B. Directs the order of execution of the statements in the program\n",
        "# C. Dictates what happens before the program starts and after it terminates\n",
        "# D. None of the above\n",
        "B. Directs the order of execution of the statements in the program\n",
        "\n",
        "\n",
        "# 15. What will be output of this expression:\n",
        "\n",
        "# 'p' + 'q' if '12'.isdigit() else 'r' + 's'\n",
        "# A. pq\n",
        "# B. rs\n",
        "# C. pqrs\n",
        "# D. pq12\n",
        "B. pq\n",
        "\n",
        "\n",
        "# 16. Which statement will check if a is equal to b?\n",
        "\n",
        "# A. if a = b:\n",
        "# B. if a == b:\n",
        "# C. if a === c:\n",
        "# D. if a == b\n",
        "if a == b:\n",
        "\n",
        "\n",
        "# 17. Does python have switch case statement?\n",
        "\n",
        "# A. True\n",
        "# B. False\n",
        "# C. Python has switch statement but we can not use it.\n",
        "# D. None of the above\n",
        " B. False\n",
        "\n",
        "\n",
        "# 18. Which of the following is a valid for loop in Python?\n",
        "\n",
        "# A. for(i=0; i < n; i++)\n",
        "# B. for i in range(0,5):\n",
        "# C. for i in range(0,5)\n",
        "# D. for i in range(5)\n",
        "for i in range(0,5):\n",
        "\n",
        "\n",
        "# 19. Which of the following sequences would be generated bt the given line of code?\n",
        "\n",
        "# range (5, 0, -2)\n",
        "# A. 5 4 3 2 1 0 -1\n",
        "# B. 5 4 3 2 1 0\n",
        "# C. 5 3 1\n",
        "# D. None of the above\n",
        "C. 5 3 1\n",
        "\n",
        "\n",
        "# 20. A while loop in Python is used for what type of iteration?\n",
        "\n",
        "# A. indefinite\n",
        "# B. discriminant\n",
        "# C. definite\n",
        "# D. indeterminate\n",
        "A. indefinite\n",
        "\n",
        "\n",
        "# 21. When does the else statement written after loop executes?\n",
        "\n",
        "# A. When break statement is executed in the loop\n",
        "# B. When loop condition becomes false\n",
        "# C. Else statement is always executed\n",
        "# D. None of the above\n",
        " C. Else statement is always executed\n",
        "\n",
        "# 22. What will be the output of the following code?\n",
        "\n",
        "# x = \"abcdef\"\n",
        "\n",
        "# i = \"i\"\n",
        "\n",
        "# while i in x:\n",
        "\n",
        "#     print(i, end=\" \")\n",
        "# A. a b c d e f\n",
        "# B. abcdef\n",
        "# C. i i i i i.....\n",
        "# D. No Output\n",
        "D. No Output\n",
        "\n",
        "\n",
        "# 23. What will be the output of the following code?\n",
        "\n",
        "# x = \"abcd\"\n",
        "\n",
        "# for i in range(len(x)):\n",
        "\n",
        "#     print(i)\n",
        "# A. abcd\n",
        "# B. 0 1 2 3\n",
        "# C. 1 2 3 4\n",
        "# D. a b c d\n",
        "B. 0 1 2 3\n",
        "\n",
        "\n",
        "# 24. What will be the output of the following code?\n",
        "\n",
        "# x = 12\n",
        "\n",
        "# for i in x:\n",
        "\n",
        "#     print(i)\n",
        "\n",
        "# A. 12\n",
        "# B. 1 2\n",
        "# C. Error\n",
        "# D. None of the above\n",
        "C. Error\n",
        "\n",
        "\n",
        "# 25. A loop becomes infinite loop if a condition never becomes ________.\n",
        "\n",
        "# A. TRUE\n",
        "# B. FALSE\n",
        "# C. Null\n",
        "# D. Both A and C\n",
        "B. FALSE\n",
        "\n",
        "\n",
        "\n",
        "# 26. If the else statement is used with a while loop, the else statement is executed when the condition becomes _______.\n",
        "\n",
        "# A. TRUE\n",
        "# B. FALSE\n",
        "# C. Infinite\n",
        "# D. Null\n",
        "B. FALSE\n",
        "\n",
        "\n",
        "# 27. Python programming language allows to use one loop inside another loop known as?\n",
        "\n",
        "# A. switch\n",
        "# B. foreach\n",
        "# C. nested\n",
        "# D. forall\n",
        "C. nested\n",
        "\n",
        "\n",
        "# 28. The ________ statement is a null operation.\n",
        "\n",
        "# A. break\n",
        "# B. exit\n",
        "# C. return\n",
        "# D. pass\n",
        "D. pass\n",
        "\n",
        "\n",
        "# 29. The continue statement can be used in?\n",
        "\n",
        "# A. while loop\n",
        "# B. for loop\n",
        "# C. do-while\n",
        "# D. Both A and B\n",
        "D.Both A and B"
      ],
      "metadata": {
        "id": "jW7HjrudIUkP"
      },
      "execution_count": null,
      "outputs": []
    },
    {
      "cell_type": "code",
      "source": [
        "#Answers below Question without running the programs\n",
        "\n",
        "\n",
        "# 1. What will be the output of above Python code?\n",
        "\n",
        "# str1=\"6/4\"\n",
        "\n",
        "# print(\"str1\")\n",
        "\n",
        "# A. 1\n",
        "# B. 6/4\n",
        "# C. 1.5\n",
        "# D. str1\n",
        "D. str1\n",
        "\n",
        "\n",
        "\n",
        "# 2. Which of the following will result in an error?\n",
        "\n",
        "# str1=\"python\"\n",
        "# A. print(str1[2])\n",
        "# B. str1[1]=\"x\"\n",
        "# C. print(str1[0:9])\n",
        "# D. Both (b) and (c)\n",
        "D. Both (b) and (c)\n",
        "\n",
        "\n",
        "# 3. Which of the following is False?\n",
        "\n",
        "# A. String is immutable.\n",
        "# B. capitalize() function in string is used to return a string by converting the whole given string into uppercase.\n",
        "# C. lower() function in string is used to return a string by converting the whole given string into lowercase.\n",
        "# D. None of these.\n",
        "B. capitalize() function in string is used to return a string by converting the whole given string into uppercase.\n",
        "\n",
        "# 4. What will be the output of below Python code?\n",
        "\n",
        "# str1=\"Information\"\n",
        "\n",
        "# print(str1[2:8])\n",
        "\n",
        "# A. format\n",
        "# B. formatio\n",
        "# C. orma\n",
        "# D. ormat\n",
        "A. format\n",
        "\n",
        "\n",
        "# 5. What will be the output of below Python code?\n",
        "\n",
        "# str1=\"Application\"\n",
        "\n",
        "# str2=str1.replace('a','A')\n",
        "\n",
        "# print(str2)\n",
        "\n",
        "# A. application\n",
        "# B. Application\n",
        "# C. ApplicAtion\n",
        "# D. applicAtion\n",
        "C. ApplicAtion\n",
        "\n",
        "\n",
        "# 6. What will be the output of below Python code?\n",
        "\n",
        "# str1=\"poWer\"\n",
        "\n",
        "# str1.upper()\n",
        "\n",
        "# print(str1)\n",
        "\n",
        "# A. POWER\n",
        "# B. Power\n",
        "# C. power\n",
        "# D. poWer\n",
        "A. POWER\n",
        "\n",
        "\n",
        "# 7. What will the below Python code will return?\n",
        "\n",
        "# If str1=\"save paper,save plants\"\n",
        "\n",
        "# str1.find(\"save\")\n",
        "# A. It returns the first index position of the first occurance of \"save\" in the given string str1.\n",
        "# B. It returns the last index position of the last occurance of \"save\" in the given string str1.\n",
        "# C. It returns the last index position of the first occurance of \"save\" in the given string str1.\n",
        "# D. It returns the first index position of the last occurance of \"save\" in the given string str1.\n",
        "A. It returns the first index position of the first occurance of \"save\" in the given string str1.\n",
        "\n",
        "\n",
        "# 8. What will the below Python code will return?\n",
        "\n",
        "# list1=[0,2,5,1]\n",
        "\n",
        "# str1=\"7\"\n",
        "\n",
        "# for i in list1:\n",
        "\n",
        "# \tstr1=str1+i\n",
        "\n",
        "# print(str1)\n",
        "\n",
        "# A. 70251\n",
        "# B. 7\n",
        "# C. 15\n",
        "# D. Error\n",
        "D. Error\n",
        "\n",
        "\n",
        "\n",
        "# 9. Which of the following will give \"Simon\" as output?\n",
        "\n",
        "# If str1=\"John,Simon,Aryan\"\n",
        "# A. print(str1[-7:-12])\n",
        "# B. print(str1[-11:-7])\n",
        "# C. print(str1[-11:-6])\n",
        "# D. print(str1[-7:-11])\n",
        "C. print(str1[-11:-6])\n",
        "\n",
        "\n",
        "\n",
        "# 10. What will following Python code return?\n",
        "\n",
        "# str1=\"Stack of books\"\n",
        "# print(len(str1))\n",
        "# A. 13\n",
        "# B. 14\n",
        "# C. 15\n",
        "# D. 16\n",
        "B. 14\n",
        "\n",
        "\n"
      ],
      "metadata": {
        "id": "B3DE3YDSG5it"
      },
      "execution_count": null,
      "outputs": []
    },
    {
      "cell_type": "code",
      "source": [],
      "metadata": {
        "id": "u3nzITJMIBRN"
      },
      "execution_count": null,
      "outputs": []
    }
  ]
}