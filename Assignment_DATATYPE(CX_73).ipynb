{
  "nbformat": 4,
  "nbformat_minor": 0,
  "metadata": {
    "colab": {
      "provenance": [],
      "include_colab_link": true
    },
    "kernelspec": {
      "name": "python3",
      "display_name": "Python 3"
    },
    "language_info": {
      "name": "python"
    }
  },
  "cells": [
    {
      "cell_type": "markdown",
      "metadata": {
        "id": "view-in-github",
        "colab_type": "text"
      },
      "source": [
        "<a href=\"https://colab.research.google.com/github/DivyaPatwari/Python-Assignments/blob/main/Assignment_DATATYPE(CX_73).ipynb\" target=\"_parent\"><img src=\"https://colab.research.google.com/assets/colab-badge.svg\" alt=\"Open In Colab\"/></a>"
      ]
    },
    {
      "cell_type": "code",
      "source": [
        "# Variable :--\n",
        "# Naming Conventions:--\n",
        "\n",
        "# 1) alphanumeric Charcaters and underscore Characters\n",
        "# _abc\n",
        "# a_b_c\n",
        "# abc\n",
        "# abc_\n",
        "\n",
        "# 2) A variable cannot begin with Number\n",
        "# 45abc\n",
        "# 87bc\n",
        "# 78nsjdj\n",
        "\n",
        "# _546sjas\n",
        "\n",
        "# age =\n",
        "# Name =\n",
        "# Hobby =\n",
        "\n",
        "# 3) Variables are case Sensitive:--\n",
        "# age =\n",
        "# AGE =\n",
        "\n",
        "# Independent\n",
        "# IndePendent\n",
        "\n",
        "\n",
        "# 4) variables names should not  be reserved word or Keywords\n",
        "\n",
        "# and =\n",
        "# not\n",
        "# and\n",
        "# True\n",
        "# False\n",
        "# or\n",
        "# for while\n",
        "# if else if elif\n",
        "\n",
        "\n",
        "\n",
        "# 5) No special characters are  used except underscore in variable declaration\n",
        "\n",
        "# ! , @ , # , $ , % , ^ , & , * , ( , ) , - , +  , =\n",
        "\n",
        "# Except _abc =\n",
        "\n",
        "# 6) If your Variable is too long then write in single word dont put a gap in letters\n",
        "\n",
        "# mynameisthisandthis =\n",
        "# my_name_is_this_and_this =\n",
        "\n",
        "\n",
        "# 7) Variables can be of  Unlimited length\n",
        "\n",
        "\n"
      ],
      "metadata": {
        "id": "7dDTQoj6bHDY"
      },
      "execution_count": null,
      "outputs": []
    },
    {
      "cell_type": "code",
      "source": [
        "Comments :--\n",
        "a = 57 #I've stored integer number in my variable a\n",
        "\n",
        "Comments are of two types :-\n",
        "Single Line Comments :-- # This is single line comments\n",
        "Multiple Line Comments :-\n",
        "\n",
        "\"\"\"\n",
        "This\n",
        "is\n",
        "Multiple\n",
        "Line\n",
        "Comments\n",
        "\n",
        "\"\"\""
      ],
      "metadata": {
        "id": "-cqz-Ju4ehCZ"
      },
      "execution_count": null,
      "outputs": []
    },
    {
      "cell_type": "code",
      "execution_count": null,
      "metadata": {
        "id": "eRqLfJs5YZkP"
      },
      "outputs": [],
      "source": [
        "#Basics of Python\n",
        "\n",
        "# DataType :-\n",
        "# Standard DataType :--\n",
        "\n",
        "# Numbers\n",
        "# String\n",
        "# List\n",
        "# Tuple\n",
        "# Dictionary\n",
        "# Boolean\n",
        "# Set\n",
        "\n",
        "\n"
      ]
    },
    {
      "cell_type": "code",
      "source": [
        "#Boolean (True / False)\n"
      ],
      "metadata": {
        "id": "3wq8bCXnaPCO"
      },
      "execution_count": null,
      "outputs": []
    },
    {
      "cell_type": "code",
      "source": [
        "#Numbers :--\n",
        "# Sub Datatypes :--\n",
        "# 1) Integers (int datatype)\n",
        "#     whole numbers values\n",
        "\n",
        "a = 57\n",
        "b = 76  # 76 is stored in b not like  b is equal to 76\n",
        "\n",
        "print(a)\n",
        "\n",
        "print(b)\n",
        "\n",
        "print(a , b)\n",
        "\n",
        "# I want to see it which type of data or value is stored in varaible\n",
        "\n",
        "# type() :- its is function to determine the type of variable\n",
        "print(type(a))\n",
        "\n",
        "print(type(a) , a , type(b) , b)\n",
        "\n",
        "\n",
        "\n"
      ],
      "metadata": {
        "colab": {
          "base_uri": "https://localhost:8080/"
        },
        "id": "5YnMB_Cqaiu4",
        "outputId": "96341ce5-7fc6-4c14-eb7e-3076a8a55382"
      },
      "execution_count": null,
      "outputs": [
        {
          "output_type": "stream",
          "name": "stdout",
          "text": [
            "57\n",
            "76\n",
            "57 76\n",
            "<class 'int'> 57 <class 'int'> 76\n"
          ]
        }
      ]
    },
    {
      "cell_type": "code",
      "source": [
        "# Floating point numbers(float Data Type):--\n",
        "# E.g -0.5 , -3.14 , 256.32 ,-2.365 , -1350.0000 , 5610.234\n",
        "\n",
        "\n",
        "float_1_negative = -0.5\n",
        "float_2_positive = 5610.234\n",
        "\n",
        "\n",
        "\n",
        "print(float_1_negative)\n",
        "\n",
        "print(float_2_positive)\n",
        "\n",
        "\n",
        "print(type(float_1_negative))\n",
        "\n",
        "\n",
        "\n",
        "print(72e4)\n",
        "\n",
        "# 72000\n",
        "# 72000.00\n",
        "# 72000.0\n",
        "# Error\n",
        "\n",
        "\n",
        "print(72e-3)\n"
      ],
      "metadata": {
        "colab": {
          "base_uri": "https://localhost:8080/"
        },
        "id": "0PeR46YKg-ov",
        "outputId": "2b659dd0-5417-4178-b9bc-d64de5400975"
      },
      "execution_count": null,
      "outputs": [
        {
          "output_type": "stream",
          "name": "stdout",
          "text": [
            "-0.5\n",
            "5610.234\n",
            "<class 'float'>\n",
            "720000.0\n",
            "0.072\n"
          ]
        }
      ]
    },
    {
      "cell_type": "code",
      "source": [
        "# Complex Numbers(complex Data type)\n",
        "\n",
        "complex_nos = 3+4j\n",
        "\n",
        "com_nos2 = 5j\n",
        "\n",
        "print(com_nos2)\n",
        "\n",
        "print(complex_nos)\n",
        "\n",
        "print(complex_nos.real)\n",
        "\n",
        "print(complex_nos.imag)\n",
        "\n",
        "print(complex_nos.conjugate)\n",
        "\n",
        "print(type(com_nos2))\n"
      ],
      "metadata": {
        "colab": {
          "base_uri": "https://localhost:8080/"
        },
        "id": "D_gv0dGaiuBn",
        "outputId": "c02da14f-e162-42fb-d3ba-fba8e53ecc3e"
      },
      "execution_count": null,
      "outputs": [
        {
          "output_type": "stream",
          "name": "stdout",
          "text": [
            "5j\n",
            "(3+4j)\n",
            "3.0\n",
            "4.0\n",
            "<built-in method conjugate of complex object at 0x7c92dd0a83f0>\n",
            "<class 'complex'>\n"
          ]
        }
      ]
    },
    {
      "cell_type": "code",
      "source": [
        "#String Data Type(str Data Type):--\n",
        "# What is String?\n",
        "#    String is collection of Characters(a , b , c , A, ,B , C, 4,5,8,9,!, @, # ,$)\n",
        "#    that is enclosed in single Quotes or Double Quotes\n",
        "\n",
        "s1 = \"Hello\" # This is Double-Quoted String\n",
        "print(s1)\n",
        "\n",
        "s2 = 'Hello'  # This is Single-Quoated String\n",
        "print(s2)\n",
        "\n",
        "print(type(s1))\n",
        "\n",
        "print(type(s2))\n",
        "\n",
        "\n",
        "# int Age = 30\n",
        "\n",
        "# string name = \"Hi\"\n",
        "\n",
        "# Declaration and Assignment\n",
        "\n",
        "# a;  #Declaration :- we dont store any kind of data or value\n",
        "# a = 10 #Assignment  :- We have Decalare the variable and we have given some data in that variable\n",
        "\n",
        "Name = \"Ganesh\"\n",
        "Age = 30\n",
        "\n",
        "\n",
        "print(Name)\n",
        "print(Age)\n",
        "\n",
        "\n",
        "print(\"My name is \", Name , \"and my age is \", Age)\n",
        "\n",
        "\n",
        "\n",
        "\n"
      ],
      "metadata": {
        "colab": {
          "base_uri": "https://localhost:8080/"
        },
        "id": "uHyN2nHSk64e",
        "outputId": "d6a7739d-e128-4d01-8863-a5f765369649"
      },
      "execution_count": null,
      "outputs": [
        {
          "output_type": "stream",
          "name": "stdout",
          "text": [
            "Hello\n",
            "Hello\n",
            "<class 'str'>\n",
            "<class 'str'>\n",
            "Ganesh\n",
            "30\n",
            "My name is  Ganesh and my age is  30\n"
          ]
        }
      ]
    },
    {
      "cell_type": "code",
      "source": [
        "#List[] (list DataType):-- It is an Order Collection of Items  and it is mutable\n",
        "Ganes_EmpId = 41054\n",
        "\n",
        "Piyus_EmpId = 454812\n",
        "\n",
        "Priyanka_Empid = 455564\n",
        "\n",
        "Emp_Ids_TATA  = [1,2,3,4,5,6,7,8,9,10]\n",
        "\n",
        "Emp_Ids_infosys = [11,12,13,14,15,16,17,18,19,20]\n",
        "\n",
        "Emp_Ids_Tesla = [100,200,300,400,500,600,700,800,900,1000]\n",
        "\n",
        "Emp_Ids_TATA_infosys_Tesla = [[1,2,3,4,5,6,7,8,9,10] ,[11,12,13,14,15,16,17,18,19,20] ,[100,200,300,400,500,600,700,800,900,1000  ]]\n",
        "\n",
        "print(\"The Employee IDs for TATA Company :--\" ,Emp_Ids_TATA )\n",
        "\n",
        "\n",
        "print(type(Emp_Ids_TATA_infosys_Tesla))\n",
        "\n"
      ],
      "metadata": {
        "colab": {
          "base_uri": "https://localhost:8080/"
        },
        "id": "ZfLOHXKzpXzl",
        "outputId": "ce9e25a5-1195-45c0-da2b-f4c49495a4d6"
      },
      "execution_count": null,
      "outputs": [
        {
          "output_type": "stream",
          "name": "stdout",
          "text": [
            "The Employee IDs for TATA Company :-- [1, 2, 3, 4, 5, 6, 7, 8, 9, 10]\n",
            "<class 'list'>\n"
          ]
        }
      ]
    },
    {
      "cell_type": "code",
      "source": [
        "# Tuple() DataType (tuple Data Type):--\n",
        "#   It is an Ordered Sequence of items same as list  and tuple is immutable\n",
        "\n",
        "tuple_items = (11,2002,13,14,15,16,17,18,19,20)\n",
        "\n",
        "print(tuple_items)\n",
        "\n",
        "print(type(tuple_items))\n"
      ],
      "metadata": {
        "colab": {
          "base_uri": "https://localhost:8080/"
        },
        "id": "4bfJ3MlkrX39",
        "outputId": "9edd7bae-796c-4773-df02-2d928a8faddb"
      },
      "execution_count": null,
      "outputs": [
        {
          "output_type": "stream",
          "name": "stdout",
          "text": [
            "(11, 2002, 13, 14, 15, 16, 17, 18, 19, 20)\n",
            "<class 'tuple'>\n"
          ]
        }
      ]
    },
    {
      "cell_type": "code",
      "source": [
        "#Dictionary{} (dict datatype) :--\n",
        "  #  It is an unordered Collection of Key-Value Pairs\n",
        "\n",
        "dictionary= {\"Name\":\"Ganesh\" , \"Age\":54}\n",
        "\n",
        "print(dictionary)\n",
        "\n",
        "\n",
        "print(type(dictionary))\n"
      ],
      "metadata": {
        "colab": {
          "base_uri": "https://localhost:8080/"
        },
        "id": "ZJM_sINzsjXV",
        "outputId": "bbe14951-7f80-4c93-e0e7-5f1c46ca16a4"
      },
      "execution_count": null,
      "outputs": [
        {
          "output_type": "stream",
          "name": "stdout",
          "text": [
            "{'Name': 'Ganesh', 'Age': 54}\n",
            "<class 'dict'>\n"
          ]
        }
      ]
    },
    {
      "cell_type": "code",
      "source": [
        "#SET :--\n",
        "    #  It is Unordered Collection of Items\n",
        "    #  Every element/ items /values / datas inside the set  it must be unique\n",
        "\n",
        "\n",
        "sets = {1,2,3,4,5,6 , 6,6,6,6,5,5,5,4,4,4,9,93,3,2,1,5}\n",
        "\n",
        "\n",
        "LIST = [1,2,3,4,5,6 , 6,6,6,6,5,5,5,4,4,4,9,93,3,2,1,5]\n",
        "print(type(sets))\n",
        "\n",
        "print(sets)\n",
        "\n",
        "days = {\"Mon\" , \"Tues\" ,\"Weds\" , \"Thurs\" , \"Fri\" , \"Sat\" ,\"Sun\" ,\"Mon\"}\n",
        "\n",
        "print(days)\n",
        "\n",
        "print(LIST)"
      ],
      "metadata": {
        "colab": {
          "base_uri": "https://localhost:8080/"
        },
        "id": "xwr7T1NouM4-",
        "outputId": "a4c7d9e2-2a28-44ae-c078-9fbc2f284a17"
      },
      "execution_count": null,
      "outputs": [
        {
          "output_type": "stream",
          "name": "stdout",
          "text": [
            "<class 'set'>\n",
            "{1, 2, 3, 4, 5, 6, 9, 93}\n",
            "{'Sun', 'Mon', 'Weds', 'Tues', 'Thurs', 'Sat', 'Fri'}\n",
            "[1, 2, 3, 4, 5, 6, 6, 6, 6, 6, 5, 5, 5, 4, 4, 4, 9, 93, 3, 2, 1, 5]\n"
          ]
        }
      ]
    },
    {
      "cell_type": "code",
      "source": [
        "# Assignment Questions:--"
      ],
      "metadata": {
        "id": "prqmrCYazc9T"
      },
      "execution_count": null,
      "outputs": []
    },
    {
      "cell_type": "code",
      "source": [
        "#Question-1\n",
        "# Create five Numbers  Variables and Assign Some Values in it and display the Output of  that Variables.\n",
        "\n",
        "a = 5\n",
        "Age = 24\n",
        "length = 60\n",
        "count_of_emp = 500\n",
        "no_of_states = 29\n",
        "\n",
        "print(a)\n",
        "print(Age)\n",
        "print(length)\n",
        "print(count_of_emp)\n",
        "print(no_of_states)\n",
        "\n",
        "\n"
      ],
      "metadata": {
        "id": "ya5aVCNcvX5J",
        "colab": {
          "base_uri": "https://localhost:8080/"
        },
        "outputId": "d523bfa6-4e90-4db5-d757-ca4996b9f1da"
      },
      "execution_count": null,
      "outputs": [
        {
          "output_type": "stream",
          "name": "stdout",
          "text": [
            "5\n",
            "24\n",
            "60\n",
            "500\n",
            "29\n"
          ]
        }
      ]
    },
    {
      "cell_type": "code",
      "source": [
        "#Question-2\n",
        "# Create Five String Variables and Assigns Some Values in it and display the Output of that Variables\n",
        "\n",
        "Name = 'Divya'\n",
        "Company = 'LTI'\n",
        "City = 'Mumbai'\n",
        "Phone = 'iphone'\n",
        "Message = \"Happy New Year\"\n",
        "\n",
        "print(Name)\n",
        "print(Company)\n",
        "print(City)\n",
        "print(Phone)\n",
        "print(Message)\n",
        "\n",
        "print (\"Hello, My name is\", Name, \"and I am from\", City, \"I wish you a\", Message)\n",
        "\n"
      ],
      "metadata": {
        "id": "F6PnhAbVvYQC",
        "colab": {
          "base_uri": "https://localhost:8080/"
        },
        "outputId": "be0f7e00-5844-479f-dfb3-f17c57b0f319"
      },
      "execution_count": null,
      "outputs": [
        {
          "output_type": "stream",
          "name": "stdout",
          "text": [
            "Divya\n",
            "LTI\n",
            "Mumbai\n",
            "iphone\n",
            "Happy New Year\n",
            "Hello, My name is Divya and I am from Mumbai I wish you a Happy New Year\n"
          ]
        }
      ]
    },
    {
      "cell_type": "code",
      "source": [
        "#Question-3\n",
        "# Store Days of the week  in One Variable\n",
        "\n",
        "weekdays = {'Monday', 'Tuesday', 'Wednesday', 'Thursday', 'Friday', 'Saturday', 'Sunday'}\n",
        "print(weekdays)\n",
        "\n",
        "\n",
        "\n",
        "\n",
        "#Question-4\n",
        "# Store at least 10  Floating point Number in one Variable\n",
        "\n",
        "Floating_pt_Nos = [3.14, 9.8, 2.4, 42.2, 63.3, 99.9, 92.2, 89.4, 84.9, 100.9]\n",
        "\n",
        "print(Floating_pt_Nos)\n",
        "\n",
        "\n",
        "\n"
      ],
      "metadata": {
        "id": "cWlI7R-NvYYz",
        "colab": {
          "base_uri": "https://localhost:8080/"
        },
        "outputId": "9385ef11-6a15-48a9-8227-ce2080c790e2"
      },
      "execution_count": null,
      "outputs": [
        {
          "output_type": "stream",
          "name": "stdout",
          "text": [
            "{'Thursday', 'Monday', 'Wednesday', 'Tuesday', 'Saturday', 'Friday', 'Sunday'}\n",
            "[3.14, 9.8, 2.4, 42.2, 63.3, 99.9, 92.2, 89.4, 84.9, 100.9]\n"
          ]
        }
      ]
    },
    {
      "cell_type": "code",
      "source": [
        "#Question-5\n",
        "# Create a Dictionary to store the data of Square of the Given Nos upto 10\n",
        "\n",
        "Squares = {1:1, 2:4, 3:9, 4:16, 5:25, 6:36,7:49, 8:64, 9:81, 10:100}\n",
        "\n",
        "print(Squares)\n",
        "\n",
        "\n"
      ],
      "metadata": {
        "id": "-fzBbVgdxr9l",
        "colab": {
          "base_uri": "https://localhost:8080/"
        },
        "outputId": "c402f962-e85b-4676-81b0-3c4a661f80f4"
      },
      "execution_count": null,
      "outputs": [
        {
          "output_type": "stream",
          "name": "stdout",
          "text": [
            "{1: 1, 2: 4, 3: 9, 4: 16, 5: 25, 6: 36, 7: 49, 8: 64, 9: 81, 10: 100}\n"
          ]
        }
      ]
    },
    {
      "cell_type": "code",
      "source": [
        "#Question-6\n",
        "# Create Five SET Variables and Assigns Some Values in it and display the Output of that Variables\n",
        "\n",
        "set1 = {111, 222, 333, 444, 555}\n",
        "set2 = {'Jan', 'Feb', 'Mar', 'Apr', 'May', 'Jun', 'Jul', 'Aug', 'Sep', 'Oct', 'Nov', 'Dec'}\n",
        "set3= {'Monday', 'Tuesday', 'Wednesday', 'Thursday', 'Friday', 'Saturday', 'Sunday'}\n",
        "set4 = {1,1,2,3,4,5,6,7,7,8,9,10} # duplicates given purposely\n",
        "set5 = {1,4,9,16,25}\n",
        "\n",
        "print(set1)\n",
        "print(set2)\n",
        "\n",
        "print(set3)\n",
        "\n",
        "print(set4)\n",
        "\n",
        "print(set5)\n",
        "\n",
        "\n"
      ],
      "metadata": {
        "id": "cDSMm1I6yRys",
        "colab": {
          "base_uri": "https://localhost:8080/"
        },
        "outputId": "ecda1551-be18-413e-cf07-d4536954d9a5"
      },
      "execution_count": null,
      "outputs": [
        {
          "output_type": "stream",
          "name": "stdout",
          "text": [
            "{555, 444, 333, 222, 111}\n",
            "{'Sep', 'Oct', 'Nov', 'Jul', 'Feb', 'Dec', 'Jun', 'Mar', 'May', 'Aug', 'Jan', 'Apr'}\n",
            "{'Thursday', 'Monday', 'Wednesday', 'Tuesday', 'Saturday', 'Friday', 'Sunday'}\n",
            "{1, 2, 3, 4, 5, 6, 7, 8, 9, 10}\n",
            "{16, 1, 4, 9, 25}\n"
          ]
        }
      ]
    },
    {
      "cell_type": "code",
      "source": [
        "#Question-7\n",
        "# Create Five Tuples Variables and Assigns Some Values in it and display the Output of that Variables\n",
        "\n",
        "tup1 = (1,1,2,3,4,5,6,7,7,8,9,10)\n",
        "squares = (1,4,9,16,25)\n",
        "\n",
        "Month_nos = (1,2,3,4,5,6,7,8,9,10, 11,12)\n",
        "tup4 = (3.14, 9.8, 22.2, 44.4, 66.6, 88.8)\n",
        "tup5 = (11,21,31,41,51)\n",
        "\n",
        "print(tup1)\n",
        "print(squares)\n",
        "print(Month_nos)\n",
        "print(tup4)\n",
        "print(tup5)\n",
        "\n",
        "\n"
      ],
      "metadata": {
        "id": "WYaVGOZQyVQq",
        "colab": {
          "base_uri": "https://localhost:8080/"
        },
        "outputId": "2c58ac1d-84b0-4332-f4be-82de7feb698b"
      },
      "execution_count": null,
      "outputs": [
        {
          "output_type": "stream",
          "name": "stdout",
          "text": [
            "(1, 1, 2, 3, 4, 5, 6, 7, 7, 8, 9, 10)\n",
            "(1, 4, 9, 16, 25)\n",
            "(1, 2, 3, 4, 5, 6, 7, 8, 9, 10, 11, 12)\n",
            "(3.14, 9.8, 22.2, 44.4, 66.6, 88.8)\n",
            "(11, 21, 31, 41, 51)\n"
          ]
        }
      ]
    },
    {
      "cell_type": "code",
      "source": [
        "#Question-8\n",
        "# a = 72e3\n",
        "# What is the meaning of a ?\n",
        "\n",
        "a = 72 * (10**3)\n"
      ],
      "metadata": {
        "id": "09e6gXtryYou"
      },
      "execution_count": 2,
      "outputs": []
    },
    {
      "cell_type": "code",
      "source": [
        "#Question-9\n",
        "# b = 72e-5\n",
        "# What is the meaning of b ?\n",
        "\n",
        "b = 72 * (10**-5)"
      ],
      "metadata": {
        "id": "fvNp0D9lymol"
      },
      "execution_count": 1,
      "outputs": []
    },
    {
      "cell_type": "code",
      "source": [
        "#Question-10\n",
        "\n",
        "# Create Five different data types of variables and Show the type of the variable:-\n",
        "\n",
        "Age = 24\n",
        "reply = True\n",
        "complex_no = 5+5j\n",
        "Message = \"Happy New Year\"\n",
        "Emp_Ids = [100,200,300,400,500,600,700,800,900,1000]\n",
        "tup5 = (11,21,31,41,51)\n",
        "Squares = {1:1, 2:4, 3:9, 4:16, 5:25, 6:36,7:49, 8:64, 9:81, 10:100}\n",
        "Month_names = {'Jan', 'Feb', 'Mar', 'Apr', 'May', 'Jun', 'Jul', 'Aug', 'Sep', 'Oct', 'Nov', 'Dec'}\n",
        "\n",
        "\n",
        "print(type(Age))\n",
        "print(type(reply))\n",
        "print(type(complex_no))\n",
        "print(type(Message))\n",
        "print(type(Emp_Ids))\n",
        "print(type(tup5))\n",
        "print(type(Squares))\n",
        "print(type(Month_names))\n"
      ],
      "metadata": {
        "id": "gN2bfWPrzuJq",
        "colab": {
          "base_uri": "https://localhost:8080/"
        },
        "outputId": "0bcf98bc-c6b0-412f-caa2-28cc98ee10b7"
      },
      "execution_count": null,
      "outputs": [
        {
          "output_type": "stream",
          "name": "stdout",
          "text": [
            "<class 'int'>\n",
            "<class 'bool'>\n",
            "<class 'complex'>\n",
            "<class 'str'>\n",
            "<class 'list'>\n",
            "<class 'tuple'>\n",
            "<class 'dict'>\n",
            "<class 'set'>\n"
          ]
        }
      ]
    }
  ]
}