{
  "nbformat": 4,
  "nbformat_minor": 0,
  "metadata": {
    "colab": {
      "provenance": [],
      "include_colab_link": true
    },
    "kernelspec": {
      "name": "python3",
      "display_name": "Python 3"
    },
    "language_info": {
      "name": "python"
    }
  },
  "cells": [
    {
      "cell_type": "markdown",
      "metadata": {
        "id": "view-in-github",
        "colab_type": "text"
      },
      "source": [
        "<a href=\"https://colab.research.google.com/github/DivyaPatwari/Python-Assignments/blob/main/Assignment_Operators(CX_73).ipynb\" target=\"_parent\"><img src=\"https://colab.research.google.com/assets/colab-badge.svg\" alt=\"Open In Colab\"/></a>"
      ]
    },
    {
      "cell_type": "code",
      "execution_count": null,
      "metadata": {
        "id": "F8Y_Na-UjmxD"
      },
      "outputs": [],
      "source": [
        "a + b\n",
        "\n",
        "#Operators :-- +\n",
        "# 1) Arithmetic Operators\n",
        "# 2) Assignment Operators\n",
        "# 3) Relational / Comparison Operators\n",
        "# 4) Logical Operators\n",
        "# 5) Bitwise Operators\n",
        "# 6) Identity Operators\n",
        "# 7) Membership Operators\n",
        "\n",
        "\n",
        "#Operands :-- a , b\n"
      ]
    },
    {
      "cell_type": "code",
      "source": [
        "# 1) Arithmetic Operators:--\n",
        "# +  :--  Addition\n",
        "# -  :-- Subtraction\n",
        "# *  :-- Multiplication\n",
        "# /  :-- Division\n",
        "# ** :-- Exponent\n",
        "# %  :-- Modulus\n",
        "# // :-- Floor Division\n",
        "\n",
        "a = 30\n",
        "b = 20\n",
        "c = a+b\n",
        "print(\"The Addition of a and b is \", c)\n",
        "\n",
        "\n",
        "a = 30\n",
        "b = a\n",
        "c = a+b\n",
        "print(\"The Addition of a and b is \", c)\n",
        "\n",
        "\n",
        "\n",
        "a = 30\n",
        "b = 20\n",
        "c = a-b\n",
        "print(\"The Subtraction of a and b is \", c)\n",
        "\n",
        "a = 30\n",
        "b = a-10\n",
        "c = b-a\n",
        "print(\"The Subtraction of a and b is \", c)\n",
        "\n",
        "\n",
        "\n",
        "a = 30\n",
        "b = 20\n",
        "c = a*b\n",
        "print(\"The Multiplication of a and b is \", c)\n",
        "\n",
        "\n",
        "a = 30\n",
        "b = a*2\n",
        "c = a*b\n",
        "print(\"The Multiplication of a and b is \", c)\n",
        "\n",
        "\n",
        "\n",
        "a = 30\n",
        "b = 20\n",
        "c = a/b\n",
        "print(\"The Division of a and b is \", c)\n",
        "\n",
        "\n",
        "a = 30\n",
        "b = a/2\n",
        "c = a/b\n",
        "print(\"The Division of a and b is \", c)\n",
        "\n",
        "\n",
        "\n",
        "x = 2\n",
        "y = 3\n",
        "z = x**y\n",
        "print(\"The power of x raised to y is \", z)\n",
        "\n",
        "\n",
        "\n",
        "x = 2\n",
        "y = x\n",
        "z = (x**y**2)\n",
        "print(\"The power of x raised to y is \", z)\n",
        "\n",
        "\n",
        "a = 30\n",
        "b = 20\n",
        "c = a%b\n",
        "print(\"The Modulus of a and b is \", c)\n",
        "\n",
        "a = 30\n",
        "b = a%2\n",
        "c = b%a\n",
        "print(\"The Modulus of a and b is \", c)\n",
        "\n",
        "\n",
        "\n",
        "\n",
        "a = 30\n",
        "b = a*5\n",
        "c = a//b\n",
        "print(\"The Floor Division of a and b is \", c)\n"
      ],
      "metadata": {
        "colab": {
          "base_uri": "https://localhost:8080/"
        },
        "id": "MhLqjkGQk31U",
        "outputId": "96694208-fd7e-41e5-951f-30c914a21c9a"
      },
      "execution_count": null,
      "outputs": [
        {
          "output_type": "stream",
          "name": "stdout",
          "text": [
            "The Addition of a and b is  50\n",
            "The Addition of a and b is  60\n",
            "The Subtraction of a and b is  10\n",
            "The Subtraction of a and b is  -10\n",
            "The Multiplication of a and b is  600\n",
            "The Multiplication of a and b is  1800\n",
            "The Division of a and b is  1.5\n",
            "The Division of a and b is  2.0\n",
            "The power of x raised to y is  8\n",
            "The power of x raised to y is  16\n",
            "The Modulus of a and b is  10\n",
            "The Modulus of a and b is  0\n",
            "The Floor Division of a and b is  0\n"
          ]
        }
      ]
    },
    {
      "cell_type": "code",
      "source": [
        "#Assignment Operator\n",
        "# = :-- Equal to\n",
        "# += :-\n",
        "# -= :-\n",
        "# *= :-\n",
        "# /= :-\n",
        "# %= :-\n",
        "# **= :-\n",
        "# //= :-\n",
        "\n",
        "\n",
        "\n",
        "\n",
        "# = :- Equal to\n",
        "\n",
        "a = 10\n",
        "b = a\n",
        "c = b\n",
        "d = c\n",
        "e = a+b-c*d\n",
        "print(e)\n",
        "\n",
        "\n",
        "\n",
        "\n",
        "\n"
      ],
      "metadata": {
        "colab": {
          "base_uri": "https://localhost:8080/"
        },
        "id": "QHRG4-L5p7Ky",
        "outputId": "4a1e28da-34cd-4219-fa2d-c17bd4037a90"
      },
      "execution_count": null,
      "outputs": [
        {
          "output_type": "stream",
          "name": "stdout",
          "text": [
            "-80\n",
            "22\n",
            "240\n"
          ]
        }
      ]
    },
    {
      "cell_type": "code",
      "source": [
        "#Assignment Operator :-\n",
        "# 1) Assign (=)\n",
        "#2) Add and Assign (+=)\n",
        "#3) Subtarct and assign (-=)\n",
        "#4) Multiply and assign (*=)\n",
        "#5) Divide and assign (/=)\n",
        "#6) Modulus and Assign (%=)\n",
        "#7) Exponent and Assign (**=)\n",
        "\n",
        "\n",
        "# 1) Assign (=) (R-L)\n",
        "X = 10\n",
        "name = \"Coachx\"\n",
        "\n",
        "\n",
        "#2) Add and Assign (+=) (R-L)\n",
        "x = 10\n",
        "y = 25\n",
        "# x += y\n",
        "x = y+x\n",
        "print(x)\n",
        "\n",
        "\n",
        "#3) Subtarct and assign (-=) (L-R)\n",
        "x = -10\n",
        "y = -5\n",
        "# x -=y #( x-y)  (x = -5)\n",
        "x = x-y   # (X = 0)\n",
        "print(x)\n",
        "\n",
        "\n",
        "\n",
        "\n",
        "#4) Multiply and assign (*=) (L-R or Vice Versa)\n",
        "\n",
        "x = -10\n",
        "y = 5\n",
        "x *= y\n",
        "# x = x*y\n",
        "print(x)\n",
        "\n",
        "\n",
        "\n",
        "#5) Divide and assign (/=) (R-L)\n",
        "\n",
        "x = 10\n",
        "y = 5\n",
        "x/=y\n",
        "print(x)\n",
        "\n",
        "\n",
        "\n",
        "\n",
        "#6) Modulus and Assign (%=) (R-L)\n",
        "\n",
        "x = 10\n",
        "y =7\n",
        "x %= y\n",
        "print(x)\n",
        "\n",
        "\n",
        "\n",
        "#7) Exponent and Assign (**=) (L-R)\n",
        "\n",
        "\n",
        "x = 10\n",
        "y = 3\n",
        "x **= y\n",
        "print(x)\n",
        "\n"
      ],
      "metadata": {
        "id": "elRs6I1P_gC-",
        "colab": {
          "base_uri": "https://localhost:8080/"
        },
        "outputId": "f88ba576-02c5-457a-9f0c-3461b079fe8d"
      },
      "execution_count": 1,
      "outputs": [
        {
          "output_type": "stream",
          "name": "stdout",
          "text": [
            "35\n",
            "-5\n",
            "-50\n",
            "2.0\n",
            "3\n",
            "1000\n"
          ]
        }
      ]
    },
    {
      "cell_type": "code",
      "source": [
        "# += :-- Addition Equal to\n",
        "\n",
        "x = 20\n",
        "y = 30\n",
        "y += x+x  #(y = x+y)\n",
        "z = x+y*10\n",
        "print(y)\n",
        "print(z)\n"
      ],
      "metadata": {
        "colab": {
          "base_uri": "https://localhost:8080/"
        },
        "id": "iC-qmF3AryC6",
        "outputId": "70a8cecc-5619-4909-9e3a-12d2eaa0f3e6"
      },
      "execution_count": null,
      "outputs": [
        {
          "output_type": "stream",
          "name": "stdout",
          "text": [
            "70\n",
            "720\n"
          ]
        }
      ]
    },
    {
      "cell_type": "code",
      "source": [
        "# *= :-- Multiplication Equal to\n",
        "\n",
        "x = 20\n",
        "y = 30\n",
        "y *= x  #(y = x+y)\n",
        "z = x*y*10\n",
        "print(y)\n",
        "print(z)\n"
      ],
      "metadata": {
        "colab": {
          "base_uri": "https://localhost:8080/"
        },
        "id": "q_mML4BJtdKB",
        "outputId": "b6211cc7-60b9-4260-9841-21278828af77"
      },
      "execution_count": null,
      "outputs": [
        {
          "output_type": "stream",
          "name": "stdout",
          "text": [
            "600\n",
            "120000\n"
          ]
        }
      ]
    },
    {
      "cell_type": "code",
      "source": [
        "# /= :-- Division Equal to\n",
        "\n",
        "x = 20\n",
        "y = 30\n",
        "y //= x  #(y = x+y)\n",
        "z = x+(y*10)\n",
        "print(y)\n",
        "print(float(z))\n"
      ],
      "metadata": {
        "colab": {
          "base_uri": "https://localhost:8080/"
        },
        "id": "c3bcnrINteng",
        "outputId": "4d8576cd-0a5d-4c0b-b4a5-68d2a6daa02c"
      },
      "execution_count": null,
      "outputs": [
        {
          "output_type": "stream",
          "name": "stdout",
          "text": [
            "1\n",
            "30.0\n"
          ]
        }
      ]
    },
    {
      "cell_type": "code",
      "source": [
        "# %= :-- Modulus Equal to\n",
        "\n",
        "x = 20\n",
        "y = 30\n",
        "y %= x  #(y = x+y)\n",
        "z = x+(y*10)\n",
        "print(y)\n",
        "print(z)\n"
      ],
      "metadata": {
        "colab": {
          "base_uri": "https://localhost:8080/"
        },
        "id": "LfTlTw5uuNSN",
        "outputId": "3406980d-b35c-4605-cb37-7a80ffe0774e"
      },
      "execution_count": null,
      "outputs": [
        {
          "output_type": "stream",
          "name": "stdout",
          "text": [
            "10\n",
            "120\n"
          ]
        }
      ]
    },
    {
      "cell_type": "code",
      "source": [
        "# **= :-- Exponent Equal to\n",
        "\n",
        "x = 20\n",
        "y = 30\n",
        "y **= x  #(y = x+y)\n",
        "z = x+(y*10)\n",
        "print(y)\n",
        "print(z)\n"
      ],
      "metadata": {
        "colab": {
          "base_uri": "https://localhost:8080/"
        },
        "id": "RllgMNzXuNYJ",
        "outputId": "6eca5d05-2444-4c0d-9da3-d4eaef555b84"
      },
      "execution_count": null,
      "outputs": [
        {
          "output_type": "stream",
          "name": "stdout",
          "text": [
            "348678440100000000000000000000\n",
            "3486784401000000000000000000020\n"
          ]
        }
      ]
    },
    {
      "cell_type": "code",
      "source": [
        "# //= :-- Floor Equal to\n",
        "\n",
        "x = 20\n",
        "y = 30\n",
        "y //= x  #(y = x+y)\n",
        "z = x+(y*10)\n",
        "print(y)\n",
        "print(z)\n",
        "\n",
        "\n"
      ],
      "metadata": {
        "colab": {
          "base_uri": "https://localhost:8080/"
        },
        "id": "yxQ9bl3muNea",
        "outputId": "88890ba0-c88e-4a06-8e57-36b94add72aa"
      },
      "execution_count": null,
      "outputs": [
        {
          "output_type": "stream",
          "name": "stdout",
          "text": [
            "1\n",
            "30\n"
          ]
        }
      ]
    },
    {
      "cell_type": "code",
      "source": [
        "# Data type Conversion :--\n",
        "# float - int\n",
        "# int - float\n",
        "# string - int\n",
        "# int - string\n",
        "# decimal - int\n",
        "\n",
        "a = 35.02\n",
        "print(a)\n",
        "print(type(a))\n",
        "print(int(a))\n",
        "print(type(a))\n",
        "\n",
        "\n"
      ],
      "metadata": {
        "colab": {
          "base_uri": "https://localhost:8080/"
        },
        "id": "AjD-KwKVukhR",
        "outputId": "b460295d-465d-47a5-801b-36620b25273c"
      },
      "execution_count": null,
      "outputs": [
        {
          "output_type": "stream",
          "name": "stdout",
          "text": [
            "35.02\n",
            "<class 'float'>\n",
            "35\n",
            "<class 'float'>\n"
          ]
        }
      ]
    },
    {
      "cell_type": "code",
      "source": [
        "#Relational / Comparison\n",
        "\n",
        "# == :- Equality\n",
        "# != :- Not Equal to\n",
        "# > :- Great than\n",
        "# < :- Less than\n",
        "# >= :- Greate than equal to\n",
        "# <= :- less than equal to\n",
        "\n",
        "\n",
        "p = 10\n",
        "q = 20\n",
        "print(p==q)\n",
        "print(p>q)\n",
        "print(p<q)\n",
        "print(p<=q)\n",
        "print(p>=q)\n",
        "print(p!=q)\n",
        "\n",
        "\n",
        "\n"
      ],
      "metadata": {
        "colab": {
          "base_uri": "https://localhost:8080/"
        },
        "id": "gxm32SSAveOB",
        "outputId": "7952bd16-2841-4463-c00c-8e53fb018ed4"
      },
      "execution_count": null,
      "outputs": [
        {
          "output_type": "stream",
          "name": "stdout",
          "text": [
            "False\n",
            "False\n",
            "True\n",
            "True\n",
            "False\n",
            "True\n"
          ]
        }
      ]
    },
    {
      "cell_type": "code",
      "source": [
        "#Logical Operators :--\n",
        "# Logical AND\n",
        "# logical OR\n",
        "# logical NOT\n",
        "\n",
        "\n",
        "# Logical AND :-- If both the operands(Conditions) are true the condition becomes True otherwise it is false\n",
        "\n",
        "\n",
        "# True = 1\n",
        "# False = 0\n",
        "\n",
        "# A      B      O/P\n",
        "# True   True    True\n",
        "# True   False   False\n",
        "# False  True    False\n",
        "# False  False   False\n",
        "\n",
        "\n",
        "#Logical OR :-- If any one of the Operands(Conditions) is true then it is True otherwise it is False\n",
        "# A      B      O/P\n",
        "# True   True    True\n",
        "# True   False   True\n",
        "# False  True    True\n",
        "# False  False   False\n",
        "\n",
        "\n",
        "# Logical NOT :-- It is used to reverse the lofical state of its Operand\n",
        "# A              O/P\n",
        "# True           False\n",
        "# False          True\n",
        "\n"
      ],
      "metadata": {
        "id": "wz5n-gDMwevx"
      },
      "execution_count": null,
      "outputs": []
    },
    {
      "cell_type": "code",
      "source": [
        "first_con = 20\n",
        "second_con = 10\n",
        "\n",
        "print(first_con and second_con)\n",
        "\n",
        "\n",
        "first_con = 20\n",
        "second_con = 10\n",
        "\n",
        "print(first_con or second_con)\n",
        "\n",
        "\n",
        "first_con = True\n",
        "second_con = False\n",
        "\n",
        "print(not first_con ,  not second_con)"
      ],
      "metadata": {
        "colab": {
          "base_uri": "https://localhost:8080/"
        },
        "id": "c8zmfL2Exx_B",
        "outputId": "76bad900-1812-4fe7-a5a7-48a0f60de068"
      },
      "execution_count": null,
      "outputs": [
        {
          "output_type": "stream",
          "name": "stdout",
          "text": [
            "10\n",
            "20\n",
            "False True\n"
          ]
        }
      ]
    },
    {
      "cell_type": "code",
      "source": [
        "#Bitwise Operators (Bits:-- 0 and 1)\n",
        "# & :-- Bitwise AND\n",
        "# | :-- Bitwise OR\n",
        "# ^ :-- Bitwise XOR\n",
        "\n",
        "\n",
        "\n",
        "# A        B        O/P\n",
        "# 1        1         0\n",
        "# 1        0         1\n",
        "# 0        1         1\n",
        "# 0        0         0\n",
        "\n",
        "\n",
        "\n",
        "\n",
        "\n",
        "a = 10\n",
        "b = 4\n",
        "\n",
        "print(not(a & b))\n",
        "\n",
        "\n",
        "\n",
        "\n",
        "\n",
        "a = 10\n",
        "b = 4\n",
        "\n",
        "print(a | b)\n",
        "\n",
        "\n",
        "\n",
        "\n",
        "a = 6\n",
        "b = 3\n",
        "\n",
        "\n",
        "print(bin(a))\n",
        "print(a ^ b)\n",
        "\n",
        "\n"
      ],
      "metadata": {
        "colab": {
          "base_uri": "https://localhost:8080/"
        },
        "id": "-6lE77EbypRB",
        "outputId": "972d02f3-c41a-4494-bcec-83e42f9259d5"
      },
      "execution_count": null,
      "outputs": [
        {
          "output_type": "stream",
          "name": "stdout",
          "text": [
            "True\n",
            "14\n",
            "0b110\n",
            "5\n"
          ]
        }
      ]
    },
    {
      "cell_type": "code",
      "source": [
        "# Identity Operators\n",
        "\n",
        "# is :--\n",
        "\n",
        "a = 3\n",
        "b = 3\n",
        "\n",
        "print(a is b)\n",
        "\n",
        "\n",
        "# is not  :-\n",
        "\n",
        "\n",
        "a = 3\n",
        "b = 3\n",
        "\n",
        "print(a is not b)\n",
        "\n",
        "\n",
        "\n",
        "a = 10\n",
        "\n",
        "print(type(a) is int)\n",
        "\n",
        "# Membership Operators\n",
        "# in\n",
        "\n",
        "x = \"Hello World\"\n",
        "\n",
        "print('H' in x)\n",
        "print('h' in x)\n",
        "\n",
        "\n",
        "\n",
        "\n",
        "# not in\n",
        "x = \"Hello World\"\n",
        "\n",
        "print('H' not in x)\n",
        "print('h' not in x)\n",
        "\n",
        "\n",
        "\n"
      ],
      "metadata": {
        "colab": {
          "base_uri": "https://localhost:8080/"
        },
        "id": "Hg0_0lsb3mtx",
        "outputId": "d27e6a62-0b87-4fda-d617-691ac8893b52"
      },
      "execution_count": null,
      "outputs": [
        {
          "output_type": "stream",
          "name": "stdout",
          "text": [
            "True\n",
            "False\n",
            "True\n",
            "True\n",
            "False\n",
            "False\n",
            "True\n"
          ]
        }
      ]
    },
    {
      "cell_type": "code",
      "source": [
        "#Taking input from the user:--(input())\n",
        "\n",
        "# by default input() function will take string\n",
        "\n",
        "Name = input(\"Enter your Name\")\n",
        "Age = int(input(\"Enter your Age\"))\n",
        "\n",
        "print(\"your Name is \" , Name)\n",
        "print(\"your Name is \" , Age)\n",
        "\n",
        "\n",
        "\n"
      ],
      "metadata": {
        "colab": {
          "base_uri": "https://localhost:8080/"
        },
        "id": "nu7rLySG5prf",
        "outputId": "0a934736-865e-44a3-ebb5-9150efea66b9"
      },
      "execution_count": null,
      "outputs": [
        {
          "output_type": "stream",
          "name": "stdout",
          "text": [
            "Enter your Namegfgfdg\n",
            "Enter your Age5665\n",
            "your Name is  gfgfdg\n",
            "your Name is  5665\n"
          ]
        }
      ]
    },
    {
      "cell_type": "code",
      "source": [
        "\n",
        "#Format Method :--(.format(variable))\n",
        "\n",
        "x = 10\n",
        "y = 20\n",
        "\n",
        "# print(\"The value of x is \" ,x , \"and the value of y is \" , y )\n",
        "\n",
        "print(\"The value of x is {} and y is {}\".format(x , y))\n",
        "\n",
        "print(\"I love {0} and {1} \".format(\"bikes\" , \"Super Bikes\"))\n",
        "\n",
        "print(\"I love {1} and {0} \".format(\"bikes\" , \"Super Bikes\"))\n",
        "\n",
        "\n",
        "\n"
      ],
      "metadata": {
        "colab": {
          "base_uri": "https://localhost:8080/"
        },
        "id": "xgX6g-8i6pLP",
        "outputId": "83761aa0-f30e-4f4c-9f93-2436f37ae255"
      },
      "execution_count": null,
      "outputs": [
        {
          "output_type": "stream",
          "name": "stdout",
          "text": [
            "The value of x is 10 and y is 20\n",
            "I love bikes and Super Bikes \n",
            "I love Super Bikes and bikes \n"
          ]
        }
      ]
    },
    {
      "cell_type": "code",
      "source": [
        "#Assignments 2:-\n",
        "\n",
        "#Question-1\n",
        "# Program to find the Square root of a number\n",
        "\n",
        "import math\n",
        "\n",
        "num = int(input(\"Enter a number: \"))\n",
        "\n",
        "sqrt = math.sqrt(num)\n",
        "\n",
        "print(\"The square of \", num, \"is :\", sqrt)\n",
        "\n",
        "\n"
      ],
      "metadata": {
        "id": "RjNfsOUP7VL2",
        "colab": {
          "base_uri": "https://localhost:8080/"
        },
        "outputId": "21e78a6d-6665-4cc1-e836-8f495a215f3e"
      },
      "execution_count": 8,
      "outputs": [
        {
          "output_type": "stream",
          "name": "stdout",
          "text": [
            "Enter a number: 64\n",
            "The square of  64 is : 8.0\n"
          ]
        }
      ]
    },
    {
      "cell_type": "code",
      "source": [
        "#Question-2\n",
        "# Program to find the area of rectangle\n",
        "\n",
        "l = float(input(\"Enter the lenght of rectangle: \"))\n",
        "b = float(input(\"Enter the breadth of rectangle: \"))\n",
        "print(\"Area of rectangle = \", l*b)\n",
        "\n"
      ],
      "metadata": {
        "id": "SpWcn8fU7VRI",
        "colab": {
          "base_uri": "https://localhost:8080/"
        },
        "outputId": "faf6d696-f404-4354-8cf0-fbd177508c8f"
      },
      "execution_count": 10,
      "outputs": [
        {
          "output_type": "stream",
          "name": "stdout",
          "text": [
            "Enter the lenght of rectangle: 10.5\n",
            "Enter the breadth of rectangle: 5\n",
            "Area of rectangle =  52.5\n"
          ]
        }
      ]
    },
    {
      "cell_type": "code",
      "source": [
        "#Question-3\n",
        "# Program to calculate the area  and Perimeter of the Square\n",
        "\n",
        "side = float(input(\"Enter the side of square: \"))\n",
        "print(\"Area of Square = \", side **2)\n",
        "print(\"Perimeter of Square = \", 4 * side)\n",
        "\n",
        "\n",
        "\n",
        "\n",
        "\n"
      ],
      "metadata": {
        "id": "VNdQOqlr7VVs",
        "colab": {
          "base_uri": "https://localhost:8080/"
        },
        "outputId": "5a7cc171-2dda-42b9-8ccc-dea03f880008"
      },
      "execution_count": 15,
      "outputs": [
        {
          "output_type": "stream",
          "name": "stdout",
          "text": [
            "Enter the side of square: 5\n",
            "Area of Square =  25.0\n",
            "Perimeter of Square =  20.0\n"
          ]
        }
      ]
    },
    {
      "cell_type": "code",
      "source": [
        "#Question-4\n",
        "# program to Calculate Surface Volumne and Area of Cylinder\n",
        "\n",
        "pi = 3.14\n",
        "\n",
        "r = float(input(\"Enter the radius of cylinder : \"))\n",
        "h = float(input(\"Enter the height of cylinder : \"))\n",
        "\n",
        "print(\"surface volumne of cylinder = \", pi* r**2 * h)\n",
        "print(\"surface volumne of cylinder = \", 2 * pi * r * h + 2 *pi*r**2)\n",
        "\n",
        "\n",
        "\n",
        "\n",
        "\n",
        "\n"
      ],
      "metadata": {
        "id": "9ZwQAPjx7VZV",
        "colab": {
          "base_uri": "https://localhost:8080/"
        },
        "outputId": "522b55e4-dec0-4db1-fe51-64ca97a19d0d"
      },
      "execution_count": 17,
      "outputs": [
        {
          "output_type": "stream",
          "name": "stdout",
          "text": [
            "Enter the radius of cylinder : 2\n",
            "Enter the height of cylinder : 2\n",
            "surface volumne of cylinder =  25.12\n",
            "surface volumne of cylinder =  50.24\n"
          ]
        }
      ]
    },
    {
      "cell_type": "code",
      "source": [
        "#Question-5\n",
        "# Program to swap the values of Two Variables\n",
        "\n",
        "a = float(input(\"Enter the value of variable a: \"))\n",
        "b = float(input(\"Enter the value of variable b: \"))\n",
        "\n",
        "c = a\n",
        "a = b\n",
        "b =c\n",
        "print (\"After swapping a =\", a)\n",
        "print (\"After swapping b =\",b)\n",
        "\n",
        "\n"
      ],
      "metadata": {
        "id": "FQWUXDUU7Vd4",
        "colab": {
          "base_uri": "https://localhost:8080/"
        },
        "outputId": "6f21f5eb-7a7b-4af1-f0bf-23f01ac84212"
      },
      "execution_count": 11,
      "outputs": [
        {
          "output_type": "stream",
          "name": "stdout",
          "text": [
            "Enter the value of variable a: 10.5\n",
            "Enter the value of variable b: 22.5\n",
            "After swapping a = 22.5\n",
            "After swapping b = 10.5\n"
          ]
        }
      ]
    },
    {
      "cell_type": "code",
      "source": [
        "#Question-6\n",
        "# Write Logical operators conditions with taking two variables\n",
        "\n",
        "\n",
        "a = True\n",
        "b = False\n",
        "print (a and b)\n",
        "print (a or b)\n",
        "print(not (a))\n",
        "print(not (b))\n",
        "\n",
        "print (a & b)\n",
        "print (a | b)\n"
      ],
      "metadata": {
        "id": "6A58sFT--3P_",
        "colab": {
          "base_uri": "https://localhost:8080/"
        },
        "outputId": "24d4b796-4fbb-4a5c-85be-a00fc35c7b0e"
      },
      "execution_count": 10,
      "outputs": [
        {
          "output_type": "stream",
          "name": "stdout",
          "text": [
            "False\n",
            "True\n",
            "False\n",
            "True\n",
            "False\n",
            "True\n"
          ]
        }
      ]
    }
  ]
}