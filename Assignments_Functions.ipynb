{
  "nbformat": 4,
  "nbformat_minor": 0,
  "metadata": {
    "colab": {
      "provenance": [],
      "include_colab_link": true
    },
    "kernelspec": {
      "name": "python3",
      "display_name": "Python 3"
    },
    "language_info": {
      "name": "python"
    }
  },
  "cells": [
    {
      "cell_type": "markdown",
      "metadata": {
        "id": "view-in-github",
        "colab_type": "text"
      },
      "source": [
        "<a href=\"https://colab.research.google.com/github/DivyaPatwari/Python-Assignments/blob/main/Assignments_Functions.ipynb\" target=\"_parent\"><img src=\"https://colab.research.google.com/assets/colab-badge.svg\" alt=\"Open In Colab\"/></a>"
      ]
    },
    {
      "cell_type": "code",
      "execution_count": null,
      "metadata": {
        "id": "_8wrcXzv4AzS"
      },
      "outputs": [],
      "source": [
        "# Function :- (Methods)\n",
        "  # A function is a block of Organised , Reusable Code that  is used to perform single Operation/task /actions.\n",
        "\n",
        "\n",
        "# A function is a block of code which only runs when it is called.\n"
      ]
    },
    {
      "cell_type": "code",
      "source": [
        "# Types of Functions:--\n",
        "\n",
        "# Built-In Functions:-\n",
        "    # which is predefined by the python\n",
        "\n",
        "# User-Defined Functions:-\n",
        "    # Depending upon the requirement Programmer can create own functions"
      ],
      "metadata": {
        "id": "V_IlHfyN4vak"
      },
      "execution_count": null,
      "outputs": []
    },
    {
      "cell_type": "code",
      "source": [
        "# Syntax :-\n",
        "\n",
        "# Function Definition:--\n",
        "# def function_name():\n",
        "#   Statements\n",
        "#   instructions\n",
        "#   Codessssssssss\n",
        "\n",
        "\n",
        "\n",
        "\n",
        "# Function Calling :--\n",
        "# function_name()\n",
        "\n",
        "\n",
        "\n",
        "# def function_name(argument1 , arg2, arg3,......argN):\n",
        "#   statements\n",
        "\n",
        "\n",
        "# function_name(para1 , para2 , para3 ,......paraN)\n",
        "\n",
        "\n",
        "# Arguments :-\n",
        "# At the time of the function definition whatever variables we pass inside the parenthesis that becomes arguments\n",
        "\n",
        "\n",
        "\n",
        "# Parameters :-\n",
        "\n",
        "# At the time of calling the function whatever value we pass inside the parenthesis that becomes Parameters\n",
        "\n",
        "\n",
        "\n"
      ],
      "metadata": {
        "id": "3U5tgdNt47M6"
      },
      "execution_count": null,
      "outputs": []
    },
    {
      "cell_type": "code",
      "source": [
        "def my_function():\n",
        "  print(\"Hello From a function\")\n",
        "\n",
        "\n",
        "my_function()"
      ],
      "metadata": {
        "colab": {
          "base_uri": "https://localhost:8080/"
        },
        "id": "IRZruJMV6jxU",
        "outputId": "18d9bd7f-1579-43fd-a927-4a52334aec73"
      },
      "execution_count": null,
      "outputs": [
        {
          "output_type": "stream",
          "name": "stdout",
          "text": [
            "Hello From a function\n"
          ]
        }
      ]
    },
    {
      "cell_type": "code",
      "source": [
        "def my_function(Name):\n",
        "  print(\"Hello \"+Name)\n",
        "\n",
        "\n",
        "\n",
        "my_function(\"Ritika\")\n",
        "my_function(\"Ganesh\")\n",
        "my_function(\"Dhananjay\")\n",
        "my_function(\"Shweta\")\n",
        "my_function(\"Piyush\")\n",
        "my_function(\"Priyanka\")\n",
        "my_function(\"Shaishta\")\n",
        "my_function(\"Ghanshyam\")\n",
        "\n",
        "\n"
      ],
      "metadata": {
        "colab": {
          "base_uri": "https://localhost:8080/"
        },
        "id": "ZQvoqqpT7WKt",
        "outputId": "b64b1a14-1739-430d-b21c-db69092ec3f6"
      },
      "execution_count": null,
      "outputs": [
        {
          "output_type": "stream",
          "name": "stdout",
          "text": [
            "Hello Ritika\n",
            "Hello Ganesh\n",
            "Hello Dhananjay\n",
            "Hello Shweta\n",
            "Hello Piyush\n",
            "Hello Priyanka\n",
            "Hello Shaishta\n",
            "Hello Ghanshyam\n"
          ]
        }
      ]
    },
    {
      "cell_type": "code",
      "source": [
        "def avg_number(x , y):\n",
        "  print(\"Average of \" ,x, \"and \", y  , \"is :\" , (x+y)/2)\n",
        "\n",
        "\n",
        "avg_number(3,4)"
      ],
      "metadata": {
        "colab": {
          "base_uri": "https://localhost:8080/"
        },
        "id": "anGLd6Z_8l4c",
        "outputId": "f1795cbc-02cb-4179-e811-b6d9ed739595"
      },
      "execution_count": null,
      "outputs": [
        {
          "output_type": "stream",
          "name": "stdout",
          "text": [
            "Average of  3 and  4 is : 3.5\n"
          ]
        }
      ]
    },
    {
      "cell_type": "code",
      "source": [
        "#Program to find the largest among three numbers with the help of function-\n",
        "x = int(input(\"Enter the first number:\"))\n",
        "y = int(input(\"Enter the Second number:\"))\n",
        "z = int(input(\"Enter the third number:\"))\n",
        "\n",
        "\n",
        "def max_of_three(x, y ,z):\n",
        "  if(x>=y) and (x>=z):\n",
        "    largest = x\n",
        "  elif(y>=x) and (y>=z):\n",
        "    largest = y\n",
        "  else:\n",
        "    largest = z\n",
        "    return(largest)\n",
        "\n",
        "print(\"The Largest number is :\", max_of_three(x , y ,z))\n",
        "\n"
      ],
      "metadata": {
        "colab": {
          "base_uri": "https://localhost:8080/"
        },
        "id": "3ztD4NSR9do1",
        "outputId": "62ca5692-0d60-4162-9ce4-dfb321d5a4f1"
      },
      "execution_count": null,
      "outputs": [
        {
          "output_type": "stream",
          "name": "stdout",
          "text": [
            "Enter the first number:1\n",
            "Enter the Second number:2\n",
            "Enter the third number:3\n",
            "The Largest number is : 3\n"
          ]
        }
      ]
    },
    {
      "cell_type": "code",
      "source": [
        "x = 'pqrs'\n",
        "\n",
        "def lower_to_upper():\n",
        "  print(x.upper())\n",
        "\n",
        "\n",
        "\n",
        "lower_to_upper()"
      ],
      "metadata": {
        "colab": {
          "base_uri": "https://localhost:8080/"
        },
        "id": "lt3Z3kzN_iz9",
        "outputId": "d319f54f-785e-464a-f1ea-3d2705bf385f"
      },
      "execution_count": null,
      "outputs": [
        {
          "output_type": "stream",
          "name": "stdout",
          "text": [
            "PQRS\n"
          ]
        }
      ]
    },
    {
      "cell_type": "code",
      "source": [
        "# Type-Conversion Functions:--\n",
        "\n",
        "#Implicit-Type Conversion:-\n",
        "\n",
        "val1 = 10\n",
        "val2 = 10.5\n",
        "sum = val1 + val2\n",
        "print(sum)\n",
        "\n",
        "print(type(val1))\n",
        "print(type(sum))\n",
        "\n",
        "\n",
        "#Explicit-Type Conversion:-\n",
        "s = \"101010\"\n",
        "c = int(s)\n",
        "print(c)\n",
        "\n",
        "print(type(c))\n",
        "print(int(sum))\n",
        "\n",
        "\n"
      ],
      "metadata": {
        "colab": {
          "base_uri": "https://localhost:8080/"
        },
        "id": "rUMTa8_C_-uM",
        "outputId": "49249f45-bc10-40b3-a1e4-662d59831950"
      },
      "execution_count": null,
      "outputs": [
        {
          "output_type": "stream",
          "name": "stdout",
          "text": [
            "20.5\n",
            "<class 'int'>\n",
            "<class 'float'>\n",
            "101010\n",
            "<class 'int'>\n",
            "20\n"
          ]
        }
      ]
    },
    {
      "cell_type": "code",
      "source": [
        "# Built-in Functions:-\n",
        "#ms Function:-\n",
        "import math as m\n",
        "\n",
        "#Floor Division //:-\n",
        "print(m.floor(2.3))\n",
        "\n",
        "\n",
        "#Find the Cosine value of any number\n",
        "print(m.cos(3))\n",
        "print(m.cos(30))\n",
        "\n",
        "print(m.sin(30))\n",
        "\n",
        "print(m.factorial(5))\n"
      ],
      "metadata": {
        "colab": {
          "base_uri": "https://localhost:8080/"
        },
        "id": "QuOORG2-_-xb",
        "outputId": "ebf04136-07c7-49d1-d1fd-26ff997cfc5e"
      },
      "execution_count": null,
      "outputs": [
        {
          "output_type": "stream",
          "name": "stdout",
          "text": [
            "2\n",
            "-0.9899924966004454\n",
            "0.15425144988758405\n",
            "-0.9880316240928618\n",
            "120\n"
          ]
        }
      ]
    },
    {
      "cell_type": "code",
      "source": [
        "# Types of Arguments :-\n",
        "\n",
        "\n",
        "# Functional Arguments:----\n",
        "# 1) Keyword Arguments\n",
        "\n",
        "# 2) Default Arguments\n",
        "\n",
        "# 3) Required Arguments\n",
        "\n",
        "# 4) Variabl-length Arguments\n",
        "\n"
      ],
      "metadata": {
        "id": "PAwjMnFVDSYM"
      },
      "execution_count": null,
      "outputs": []
    },
    {
      "cell_type": "code",
      "source": [
        "# 1) Keyword Arguments\n",
        "\n",
        "def key_word_arg(str):\n",
        "  print(str)\n",
        "  return\n",
        "\n",
        "key_word_arg(str = \"Hello Python\")\n",
        "key_word_arg(str = \"This is Keyword Arguments\")\n",
        "\n",
        "\n",
        "# Keywords/Reserved Words:--\n",
        "# str\n",
        "# int\n",
        "# float\n",
        "# complex\n"
      ],
      "metadata": {
        "colab": {
          "base_uri": "https://localhost:8080/"
        },
        "id": "2XnksZccE1hY",
        "outputId": "05eff795-0a54-4dce-c605-ca229158de09"
      },
      "execution_count": null,
      "outputs": [
        {
          "output_type": "stream",
          "name": "stdout",
          "text": [
            "Hello Python\n",
            "This is Keyword Arguments\n"
          ]
        }
      ]
    },
    {
      "cell_type": "code",
      "source": [
        "#2) Default Arguments\n",
        "def default_arg(name , age = 25):\n",
        "  print(\"Name:\", name)\n",
        "  print(\"Age\", age)\n",
        "  return\n",
        "\n",
        "\n",
        "default_arg(age = 24, name = \"Hitesh\")\n",
        "default_arg(name= \"Ganesh\")\n",
        "default_arg(name= \"Shweta\")\n",
        "\n",
        "\n",
        "\n",
        "\n"
      ],
      "metadata": {
        "colab": {
          "base_uri": "https://localhost:8080/"
        },
        "id": "zrbTvDq6FYeA",
        "outputId": "6ffadbb8-a83c-41e2-fdd3-89fec98b237e"
      },
      "execution_count": null,
      "outputs": [
        {
          "output_type": "stream",
          "name": "stdout",
          "text": [
            "Name: Hitesh\n",
            "Age 24\n",
            "Name: Ganesh\n",
            "Age 25\n",
            "Name: Shweta\n",
            "Age 25\n"
          ]
        }
      ]
    },
    {
      "cell_type": "code",
      "source": [
        "#3) Required Arguments:--\n",
        "\n",
        "def req_arg(str):\n",
        "  print(str)\n",
        "\n",
        "req_arg()\n",
        "\n",
        "\n",
        "\n",
        "def req_arg(name):\n",
        "  print(\"Name\", name)\n",
        "\n",
        "req_arg()"
      ],
      "metadata": {
        "colab": {
          "base_uri": "https://localhost:8080/",
          "height": 211
        },
        "id": "l11ui2X4GdF0",
        "outputId": "17875328-1057-431c-9a2e-4071c6f9a773"
      },
      "execution_count": 29,
      "outputs": [
        {
          "output_type": "error",
          "ename": "TypeError",
          "evalue": "req_arg() missing 1 required positional argument: 'str'",
          "traceback": [
            "\u001b[0;31m---------------------------------------------------------------------------\u001b[0m",
            "\u001b[0;31mTypeError\u001b[0m                                 Traceback (most recent call last)",
            "\u001b[0;32m<ipython-input-29-f2110b0dd673>\u001b[0m in \u001b[0;36m<cell line: 6>\u001b[0;34m()\u001b[0m\n\u001b[1;32m      4\u001b[0m   \u001b[0mprint\u001b[0m\u001b[0;34m(\u001b[0m\u001b[0mstr\u001b[0m\u001b[0;34m)\u001b[0m\u001b[0;34m\u001b[0m\u001b[0;34m\u001b[0m\u001b[0m\n\u001b[1;32m      5\u001b[0m \u001b[0;34m\u001b[0m\u001b[0m\n\u001b[0;32m----> 6\u001b[0;31m \u001b[0mreq_arg\u001b[0m\u001b[0;34m(\u001b[0m\u001b[0;34m)\u001b[0m\u001b[0;34m\u001b[0m\u001b[0;34m\u001b[0m\u001b[0m\n\u001b[0m\u001b[1;32m      7\u001b[0m \u001b[0;34m\u001b[0m\u001b[0m\n\u001b[1;32m      8\u001b[0m \u001b[0;34m\u001b[0m\u001b[0m\n",
            "\u001b[0;31mTypeError\u001b[0m: req_arg() missing 1 required positional argument: 'str'"
          ]
        }
      ]
    },
    {
      "cell_type": "code",
      "source": [
        "# 4) Variabl-length Arguments\n",
        "\n",
        "def variable_length_arg(arg1 , *varTuple):\n",
        "  print(\"Output is :\")\n",
        "  print(arg1)\n",
        "  for var in varTuple:\n",
        "    print(var)\n",
        "\n",
        "\n",
        "variable_length_arg(10)\n",
        "variable_length_arg(10,20,30,40,50)"
      ],
      "metadata": {
        "colab": {
          "base_uri": "https://localhost:8080/"
        },
        "id": "pRjfe59zG_g8",
        "outputId": "17992fb2-baad-4766-9766-37b832a0ba88"
      },
      "execution_count": null,
      "outputs": [
        {
          "output_type": "stream",
          "name": "stdout",
          "text": [
            "Output is :\n",
            "10\n",
            "Output is :\n",
            "10\n",
            "20\n",
            "30\n",
            "40\n",
            "50\n"
          ]
        }
      ]
    },
    {
      "cell_type": "code",
      "source": [
        "def variable_length_arg(classes , *names):\n",
        "  print(\"Output is :\")\n",
        "  print(classes)\n",
        "  for name in names:\n",
        "    print(name)\n",
        "\n",
        "\n",
        "variable_length_arg(10)\n",
        "variable_length_arg(\"Ritika\", \"Shweta\", \"Hitesh\" , \"Ganesh\" , \"Ghanshyam\", \"Dhananjay\", \"Purushottam\", \"Piyush\")\n",
        "\n"
      ],
      "metadata": {
        "colab": {
          "base_uri": "https://localhost:8080/"
        },
        "id": "_uNwtLnIINwN",
        "outputId": "d4d85ee2-7a45-46b4-fdc4-4b40146d98a6"
      },
      "execution_count": null,
      "outputs": [
        {
          "output_type": "stream",
          "name": "stdout",
          "text": [
            "Output is :\n",
            "10\n",
            "Hitesh\n",
            "Output is :\n",
            "Ritika\n",
            "Shweta\n",
            "Hitesh\n",
            "Ganesh\n",
            "Ghanshyam\n",
            "Dhananjay\n",
            "Purushottam\n",
            "Piyush\n"
          ]
        }
      ]
    },
    {
      "cell_type": "code",
      "source": [
        "# Assignments on Functions\n",
        "\n",
        "# Q1) Give below 4 Example of Keyword Functions:-\n",
        "# str\n",
        "# int\n",
        "# float\n",
        "# complex\n",
        "\n",
        "# str\n",
        "def key_word_arg(str):\n",
        "  print(str)\n",
        "  return\n",
        "\n",
        "key_word_arg(str = \"Hello Python\")\n",
        "key_word_arg(str = \"This is string Keyword Argument exanple\")\n",
        "\n",
        "# int\n",
        "def key_word_arg(int):\n",
        "  print(int)\n",
        "  return\n",
        "\n",
        "key_word_arg(int = 20)\n",
        "key_word_arg(int = 100)\n",
        "\n",
        "\n",
        "# float\n",
        "def key_word_arg(float):\n",
        "  print(float)\n",
        "  return\n",
        "\n",
        "key_word_arg(float = 18.5)\n",
        "key_word_arg(float = 29.6)\n",
        "\n",
        "\n",
        "# complex\n",
        "def key_word_arg(complex):\n",
        "  print(complex)\n",
        "  return\n",
        "\n",
        "key_word_arg(complex = 3+2j)\n",
        "\n",
        "\n",
        "\n",
        "\n",
        "\n"
      ],
      "metadata": {
        "id": "nigRfOL1KohN",
        "colab": {
          "base_uri": "https://localhost:8080/"
        },
        "outputId": "6e8f4f08-d210-4e31-a741-dab692f3871a"
      },
      "execution_count": 22,
      "outputs": [
        {
          "output_type": "stream",
          "name": "stdout",
          "text": [
            "Hello Python\n",
            "This is string Keyword Argument exanple\n",
            "20\n",
            "100\n",
            "18.5\n",
            "29.6\n",
            "(3+2j)\n"
          ]
        }
      ]
    },
    {
      "cell_type": "code",
      "source": [
        "\n",
        "# Q2)  Write a Programs to Convert the U.S. Dollars to Indian Rupees\n",
        "usd = float(input(\"Enter currency in USD: \"))\n",
        "inr = usd * 73\n",
        "\n",
        "print(\"The currency in INR is\",round(inr,2))\n"
      ],
      "metadata": {
        "id": "EgazpNNWQ3Y8",
        "colab": {
          "base_uri": "https://localhost:8080/"
        },
        "outputId": "05fb20dc-12e8-427b-c554-cece2231f345"
      },
      "execution_count": 45,
      "outputs": [
        {
          "output_type": "stream",
          "name": "stdout",
          "text": [
            "Enter currency in USD: 1000\n",
            "The currency in INR is 73000.0\n"
          ]
        }
      ]
    },
    {
      "cell_type": "code",
      "source": [
        "#Q3) Program for a function that accept the two strings as input as an arguments and find the concatenated string\n",
        "\n",
        "\n",
        "def strconcatenate(str1, str2):\n",
        "  str3=str1+str2\n",
        "  return str3\n",
        "\n",
        "str1= input(\"enter str1: \")\n",
        "str2= input(\"enter str2: \")\n",
        "strconcatenate(str1, str2)\n"
      ],
      "metadata": {
        "id": "YzGceDEeQ4qD",
        "colab": {
          "base_uri": "https://localhost:8080/",
          "height": 70
        },
        "outputId": "fa423fc6-2a0b-46d6-e483-bde444704aeb"
      },
      "execution_count": 5,
      "outputs": [
        {
          "name": "stdout",
          "output_type": "stream",
          "text": [
            "enter str1: str1\n",
            "enter str2: str2\n"
          ]
        },
        {
          "output_type": "execute_result",
          "data": {
            "text/plain": [
              "'str1str2'"
            ],
            "application/vnd.google.colaboratory.intrinsic+json": {
              "type": "string"
            }
          },
          "metadata": {},
          "execution_count": 5
        }
      ]
    },
    {
      "cell_type": "code",
      "source": [
        "\n",
        "#Q4) Write a Program for user defined function bin() which converts given number into binary\n",
        "\n",
        "num = int(input(\"enter a number\"))\n",
        "print(bin(num))\n"
      ],
      "metadata": {
        "id": "vGNPzsOcRGFT",
        "colab": {
          "base_uri": "https://localhost:8080/"
        },
        "outputId": "d0c92b48-2257-44d9-bbcb-2b29df4e5f0c"
      },
      "execution_count": 30,
      "outputs": [
        {
          "output_type": "stream",
          "name": "stdout",
          "text": [
            "enter a number10\n",
            "0b1010\n"
          ]
        }
      ]
    },
    {
      "cell_type": "code",
      "source": [
        "\n",
        "#Q5) Write all Operation of sets inside single function\n",
        "set1={121, 211, 301, 550, 707, 50}\n",
        "set2= {'a', 'e', 'i', 'o', 'u', 'W'}\n",
        "\n",
        "print('set:', set1)\n",
        "\n",
        "print(len(set2))\n",
        "print(max(set1))\n",
        "print(min(set1))\n",
        "print(sorted(set1))\n",
        "print(sum(set1))\n",
        "print(enumerate(set1))\n",
        "\n",
        "\n"
      ],
      "metadata": {
        "id": "ZLAitvm6RSL7",
        "colab": {
          "base_uri": "https://localhost:8080/"
        },
        "outputId": "cc1630d4-958b-409c-9a0c-45115d6a19d4"
      },
      "execution_count": 15,
      "outputs": [
        {
          "output_type": "stream",
          "name": "stdout",
          "text": [
            "set: {50, 707, 211, 550, 121, 301}\n",
            "6\n",
            "707\n",
            "50\n",
            "[50, 121, 211, 301, 550, 707]\n",
            "1940\n",
            "<enumerate object at 0x7f65851b2280>\n"
          ]
        }
      ]
    },
    {
      "cell_type": "code",
      "source": [
        "#Q6) Give three examples of Variable-length arguments\n",
        "#eg 1\n",
        "def sum_all(*args):\n",
        "    result = 0\n",
        "    for num in args:\n",
        "        result += num\n",
        "    return result\n",
        "\n",
        "print(sum_all(1, 2, 3, 4, 5))\n",
        "\n",
        "#eg2\n",
        "def show_data(**kwargs):\n",
        "    for key, value in kwargs.items():\n",
        "        print(f\"{key}: {value}\")\n",
        "\n",
        "show_data(name=\"Divya\", age=24, city=\"Roha\")\n",
        "\n"
      ],
      "metadata": {
        "id": "b1mwOg1kRkya",
        "colab": {
          "base_uri": "https://localhost:8080/"
        },
        "outputId": "6746f4b7-cc54-43d1-ccb8-03a17ec2b227"
      },
      "execution_count": 28,
      "outputs": [
        {
          "output_type": "stream",
          "name": "stdout",
          "text": [
            "15\n",
            "name: Divya\n",
            "age: 24\n",
            "city: Roha\n"
          ]
        }
      ]
    },
    {
      "cell_type": "code",
      "source": [
        "#Q7) Write a Program for finding the factorial of any number\n",
        "\n",
        "num = int(input(\"Enter a number: \"))\n",
        "\n",
        "factorial = 1\n",
        "\n",
        "# check if the number is negative, positive or zero\n",
        "if num < 0:\n",
        "   print(\"Sorry, factorial does not exist for negative numbers\")\n",
        "elif num == 0:\n",
        "   print(\"The factorial of 0 is 1\")\n",
        "else:\n",
        "   for i in range(1,num + 1):\n",
        "       factorial = factorial*i\n",
        "   print(\"The factorial of\",num,\"is\",factorial)\n",
        "\n",
        "\n",
        "# using function\n",
        "\n",
        "def factorial(x):\n",
        "\n",
        "    if x < 0:\n",
        "       print(\"Sorry, factorial does not exist for negative numbers\")\n",
        "    elif num == 0:\n",
        "      print(\"The factorial of 0 is 1\")\n",
        "    else:\n",
        "        # recursive call to the function\n",
        "        return (x * factorial(x-1))\n",
        "\n",
        "num = int(input(\"Enter a number: \"))\n",
        "factorial(num)\n"
      ],
      "metadata": {
        "id": "Uem0ffxuRrrC",
        "colab": {
          "base_uri": "https://localhost:8080/"
        },
        "outputId": "330a4066-15fe-4e0e-8616-0f43e6fd6652"
      },
      "execution_count": 19,
      "outputs": [
        {
          "name": "stdout",
          "output_type": "stream",
          "text": [
            "Enter a number: 5\n"
          ]
        },
        {
          "output_type": "execute_result",
          "data": {
            "text/plain": [
              "120"
            ]
          },
          "metadata": {},
          "execution_count": 19
        }
      ]
    },
    {
      "cell_type": "code",
      "source": [
        "#Q8) Write a program to create a single function where all maths functions can be  used.\n",
        "\n"
      ],
      "metadata": {
        "id": "2WMYIzBnRyUb"
      },
      "execution_count": null,
      "outputs": []
    },
    {
      "cell_type": "code",
      "source": [
        "#Q9)  Find the Sum of all natural numbers no matter whats the input it should find the sum of numbers within a second\n",
        "\n",
        "def sum_nat(num):\n",
        "  if num < 0:\n",
        "   print(\"Enter a positive number\")\n",
        "  else:\n",
        "    sum = 0\n",
        "  while(num > 0):\n",
        "       sum += num\n",
        "       num -= 1\n",
        "       print(\"The sum is\", sum)\n",
        "\n",
        "num = int(input(\"Enter a number: \"))\n",
        "sum_nat(num)\n"
      ],
      "metadata": {
        "id": "Q3pRnVgPSDPc",
        "colab": {
          "base_uri": "https://localhost:8080/"
        },
        "outputId": "3dc590c2-d4c8-4c1d-da85-f07bebea3c52"
      },
      "execution_count": 43,
      "outputs": [
        {
          "output_type": "stream",
          "name": "stdout",
          "text": [
            "Enter a number: 6\n",
            "The sum is 6\n",
            "The sum is 11\n",
            "The sum is 15\n",
            "The sum is 18\n",
            "The sum is 20\n",
            "The sum is 21\n"
          ]
        }
      ]
    },
    {
      "cell_type": "code",
      "source": [
        "# Q10)\n",
        "\n",
        "#  Which keyword is use for function?\n",
        "\n",
        "# A. define\n",
        "# B. fun\n",
        "# C. def\n",
        "# D. function\n",
        "\n",
        "C. def\n",
        "\n",
        "# 2. Which of the following items are present in the function header?\n",
        "\n",
        "# A. function name\n",
        "# B. parameter list\n",
        "# C. return value\n",
        "# D. Both A and B\n",
        "\n",
        "D. Both A and B\n",
        "\n",
        "# 3. What is called when a function is defined inside a class?\n",
        "\n",
        "# A. class\n",
        "# B. function\n",
        "# C. method\n",
        "# D. module\n",
        "\n",
        "C. method\n",
        "\n",
        "# 4. If return statement is not used inside the function, the function will return:\n",
        "\n",
        "# A. None\n",
        "# B. 0\n",
        "# C. Null\n",
        "# D. Arbitary value\n",
        "\n",
        "A. None\n",
        "\n",
        "\n",
        "# 5. What is a recursive function?\n",
        "\n",
        "# A. A function that calls other function.\n",
        "# B. A function which calls itself.\n",
        "# C. Both A and B\n",
        "# D. None of the above\n",
        "\n",
        "B. A function which calls itself.\n",
        "\n",
        "\n",
        "# 6. Which of the following is the use of id() function in python?\n",
        "\n",
        "# A. Id() returns the size of object.\n",
        "# B. Id() returns the identity of the object.\n",
        "# C. Both A and B\n",
        "# D. None of the above\n",
        "\n",
        "B. Id() returns the identity of the object.\n",
        "\n",
        "# 7. Which of the following function headers is correct?\n",
        "\n",
        "# A. def fun(a = 2, b = 3, c)\n",
        "# B. def fun(a = 2, b, c = 3)\n",
        "# C. def fun(a, b = 2, c = 3)\n",
        "# D. def fun(a, b, c = 3, d)\n",
        "\n",
        "C. def fun(a, b = 2, c = 3)\n",
        "\n",
        "# 8. In which part of memory does the system stores the parameter and local variables of funtion call?\n",
        "\n",
        "# A. heap\n",
        "# B. stack\n",
        "# C. Uninitialized data segment\n",
        "# D. None of the above\n",
        "\n",
        "B. stack\n",
        "\n",
        "# 9. Which of the following will print the pi value defined in math module?\n",
        "\n",
        "# A. print(pi)\n",
        "# B. print(math.pi)\n",
        "# C. from math import pi\n",
        "# print(pi)\n",
        "# D. from math import pi\n",
        "# print(math.pi)\n",
        "\n",
        "C. from math import pi\n",
        "print(pi)\n",
        "\n",
        "# 10.  Which operator is used in Python to import modules from packages?\n",
        "\n",
        "# A. .\n",
        "# B. *\n",
        "# C. ->\n",
        "# D. &\n",
        "\n",
        "A. .\n",
        "\n",
        "\n",
        "# 11. Where is function defined?\n",
        "\n",
        "# A. Module\n",
        "# B. class\n",
        "# C. Another Function\n",
        "# D. All of the above\n",
        "\n",
        "D. All of the above\n",
        "\n",
        "# 12. Lambda is a function in python?\n",
        "\n",
        "# A. True\n",
        "# B. False\n",
        "# C. Lambda is a function in python but user can not use it.\n",
        "# D. None of the above\n",
        "\n",
        "A. True\n",
        "\n",
        "# 13. What is a variable defined outside a function referred to as?\n",
        "\n",
        "# A. local variable\n",
        "# B. global variable\n",
        "# C. static Variable\n",
        "# D. automatic variable\n",
        "\n",
        " B. global variable\n",
        "\n",
        "\n",
        "\n",
        "\n",
        "# 15. What is the output of the following program?\n",
        "\n",
        "# print(chr(ord(chr(97))))\n",
        "# A. a\n",
        "# B. A\n",
        "# C. 97\n",
        "# D. error\n",
        "\n",
        "A. a\n",
        "\n",
        "# 16. How is a function declared in Python?\n",
        "\n",
        "# A. def function function_name():\n",
        "# B. declare function function_name():\n",
        "# C. def function_name():\n",
        "# D. declare function_name():\n",
        "\n",
        "C. def function_name():\n",
        "\n",
        "\n",
        "# 17. Which one of the following is the correct way of calling a function?\n",
        "\n",
        "# A. function_name()\n",
        "# B. call function_name()\n",
        "# C. ret function_name()\n",
        "# D. function function_name()\n",
        "\n",
        " A. function_name()\n",
        "\n",
        "# 18. Choose the correct option with reference to below Python code?\n",
        "\n",
        "# def fn(a):\n",
        "\n",
        "# \tprint(a)\n",
        "\n",
        "# x=90\n",
        "\n",
        "# fn(x)\n",
        "\n",
        "# A. x is the formal argument.\n",
        "# B. a is the actual argument.\n",
        "# C. fn(x) is the function signature.\n",
        "# D. x is the actual argument.\n",
        "\n",
        "D. x is the actual argument.\n",
        "\n",
        "# 19. Which one of the following is incorrect?\n",
        "\n",
        "# A. The variables used inside function are called local variables.\n",
        "# B. The local variables of a particular function can be used inside other functions, but these cannot be used in global space\n",
        "# C. The variables used outside function are called global variables\n",
        "# D. In order to change the value of global variable inside function, keyword global is used.\n",
        "\n",
        "B. The local variables of a particular function can be used inside other functions, but these cannot be used in global space\n",
        "\n",
        "\n",
        "# 20. You can also create your own functions, these functions are called?\n",
        "\n",
        "# A. built-in functions\n",
        "# B. user-defined functions\n",
        "# C. py function\n",
        "# D. None of the above\n",
        "\n",
        "B. user-defined functions\n",
        "\n",
        "\n",
        "# 21. Function blocks begin with the keyword?\n",
        "\n",
        "# A. define\n",
        "# B. fun\n",
        "# C. function\n",
        "# D. def\n",
        "\n",
        "D. def\n",
        "\n",
        "# 22. The code block within every function starts with a ?\n",
        "\n",
        "# A. ;\n",
        "# B. ::\n",
        "# C. :\n",
        "# D. %\n",
        "C. :\n",
        "\n",
        "\n",
        "# 23. A return statement with _____ arguments.\n",
        "\n",
        "# A. No\n",
        "# B. 1\n",
        "# C. 2\n",
        "# D. Any\n",
        "\n",
        "A. No\n",
        "\n",
        "\n",
        "# 24. ___________ are the arguments passed to a function in correct positional order.\n",
        "\n",
        "# A. Required arguments\n",
        "# B. Keyword arguments\n",
        "# C. Default arguments\n",
        "# D. Variable-length arguments\n",
        "\n",
        "A. Required arguments"
      ],
      "metadata": {
        "id": "tj1ddvE5T6Zk"
      },
      "execution_count": null,
      "outputs": []
    }
  ]
}