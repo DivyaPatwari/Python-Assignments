{
  "nbformat": 4,
  "nbformat_minor": 0,
  "metadata": {
    "colab": {
      "provenance": [],
      "include_colab_link": true
    },
    "kernelspec": {
      "name": "python3",
      "display_name": "Python 3"
    },
    "language_info": {
      "name": "python"
    }
  },
  "cells": [
    {
      "cell_type": "markdown",
      "metadata": {
        "id": "view-in-github",
        "colab_type": "text"
      },
      "source": [
        "<a href=\"https://colab.research.google.com/github/DivyaPatwari/Python-Assignments/blob/main/Assignment_Looping(While).ipynb\" target=\"_parent\"><img src=\"https://colab.research.google.com/assets/colab-badge.svg\" alt=\"Open In Colab\"/></a>"
      ]
    },
    {
      "cell_type": "code",
      "execution_count": null,
      "metadata": {
        "id": "rssj7PpZm1Xm"
      },
      "outputs": [],
      "source": [
        "#Looping / Iteration :--\n",
        "while  loop:-\n",
        "for loop:--\n",
        "\n"
      ]
    },
    {
      "cell_type": "code",
      "source": [
        "# Syntax of while  loop:-\n",
        "\n",
        "# while condition:\n",
        "#   statements\n",
        "\n",
        "\n",
        "# initialize var = 0\n",
        "\n",
        "# while condition:\n",
        "#   statements\n",
        "#   increment / decrement\n",
        "\n",
        "\n",
        "\n",
        "count = 0\n",
        "while count <=10:\n",
        "  print(\"Count=\" , count)\n",
        "  count = count+1 # count+=1\n",
        "\n",
        "print(\"Bbye Counter\")\n",
        "\n",
        "\n",
        "\n",
        "\n",
        "\n",
        "\n"
      ],
      "metadata": {
        "colab": {
          "base_uri": "https://localhost:8080/"
        },
        "id": "3_Cl-axeotCT",
        "outputId": "cddd3468-10ac-4a7c-d82f-c4baafcbfb89"
      },
      "execution_count": null,
      "outputs": [
        {
          "output_type": "stream",
          "name": "stdout",
          "text": [
            "Count= 0\n",
            "Count= 1\n",
            "Count= 2\n",
            "Count= 3\n",
            "Count= 4\n",
            "Count= 5\n",
            "Count= 6\n",
            "Count= 7\n",
            "Count= 8\n",
            "Count= 9\n",
            "Count= 10\n",
            "Count= 11\n",
            "Count= 12\n",
            "Count= 13\n",
            "Count= 14\n",
            "Count= 15\n",
            "Count= 16\n",
            "Count= 17\n",
            "Count= 18\n",
            "Count= 19\n",
            "Count= 20\n",
            "Count= 21\n",
            "Count= 22\n",
            "Count= 23\n",
            "Count= 24\n",
            "Count= 25\n",
            "Count= 26\n",
            "Count= 27\n",
            "Count= 28\n",
            "Count= 29\n",
            "Count= 30\n",
            "Count= 31\n",
            "Count= 32\n",
            "Count= 33\n",
            "Count= 34\n",
            "Count= 35\n",
            "Count= 36\n",
            "Count= 37\n",
            "Count= 38\n",
            "Count= 39\n",
            "Count= 40\n",
            "Count= 41\n",
            "Count= 42\n",
            "Count= 43\n",
            "Count= 44\n",
            "Count= 45\n",
            "Count= 46\n",
            "Count= 47\n",
            "Count= 48\n",
            "Count= 49\n",
            "Count= 50\n",
            "Count= 51\n",
            "Count= 52\n",
            "Count= 53\n",
            "Count= 54\n",
            "Count= 55\n",
            "Count= 56\n",
            "Count= 57\n",
            "Count= 58\n",
            "Count= 59\n",
            "Count= 60\n",
            "Count= 61\n",
            "Count= 62\n",
            "Count= 63\n",
            "Count= 64\n",
            "Count= 65\n",
            "Count= 66\n",
            "Count= 67\n",
            "Count= 68\n",
            "Count= 69\n",
            "Count= 70\n",
            "Count= 71\n",
            "Count= 72\n",
            "Count= 73\n",
            "Count= 74\n",
            "Count= 75\n",
            "Count= 76\n",
            "Count= 77\n",
            "Count= 78\n",
            "Count= 79\n",
            "Count= 80\n",
            "Count= 81\n",
            "Count= 82\n",
            "Count= 83\n",
            "Count= 84\n",
            "Count= 85\n",
            "Count= 86\n",
            "Count= 87\n",
            "Count= 88\n",
            "Count= 89\n",
            "Count= 90\n",
            "Count= 91\n",
            "Count= 92\n",
            "Count= 93\n",
            "Count= 94\n",
            "Count= 95\n",
            "Count= 96\n",
            "Count= 97\n",
            "Count= 98\n",
            "Count= 99\n",
            "Count= 100\n",
            "Bbye Counter\n"
          ]
        }
      ]
    },
    {
      "cell_type": "code",
      "source": [
        "#Print a series of number from one to 100 if you ur nos is 20 then print nos is 20 and if your nos is 50 print nos is 50\n",
        "\n",
        "nos = 0\n",
        "while nos<=100:\n",
        "  if(nos==20 or nos==50):\n",
        "    print(\"nos is 20 and nos is 50\")\n",
        "  elif(nos==50):\n",
        "    print(\"Nos is 50\")\n",
        "  nos +=1\n",
        "\n",
        "\n"
      ],
      "metadata": {
        "colab": {
          "base_uri": "https://localhost:8080/"
        },
        "id": "I0F0ksO5r34Y",
        "outputId": "aabf526d-c5a7-4a7c-d7c3-b9aa29272261"
      },
      "execution_count": null,
      "outputs": [
        {
          "output_type": "stream",
          "name": "stdout",
          "text": [
            "nos is 20 and nos is 50\n",
            "nos is 20 and nos is 50\n"
          ]
        }
      ]
    },
    {
      "cell_type": "code",
      "source": [
        "#Fibonacci Sequence\n",
        "# 0 1 1 2 3 5 8 13 21\n",
        "nos = int(input(\"Enter how many number you want to display\"))\n",
        "\n",
        "x = 0\n",
        "y = 1\n",
        "\n",
        "c = 2\n",
        "print(\"Fibonacci Sequence is \")\n",
        "print(x)\n",
        "print(y)\n",
        "\n",
        "while(c<nos):\n",
        "  z = x+y\n",
        "  print(z)\n",
        "  x = y\n",
        "  y = z\n",
        "  c+=1\n",
        "\n",
        "\n",
        "\n",
        "\n"
      ],
      "metadata": {
        "colab": {
          "base_uri": "https://localhost:8080/"
        },
        "id": "riKHgZQ9t0Kw",
        "outputId": "0a7b586e-bf1a-4305-9d04-65a15eed137c"
      },
      "execution_count": null,
      "outputs": [
        {
          "output_type": "stream",
          "name": "stdout",
          "text": [
            "Enter how many number you want to display10\n",
            "Fibonacci Sequence is \n",
            "0\n",
            "1\n",
            "1\n",
            "2\n",
            "3\n",
            "5\n",
            "8\n",
            "13\n",
            "21\n",
            "34\n"
          ]
        }
      ]
    },
    {
      "cell_type": "code",
      "source": [
        "#Program to find the sum of given number:--\n",
        "\n",
        "n = int(input(\"Enter a number\"))\n",
        "\n",
        "s = 0\n",
        "while(n>0):\n",
        "  rem = n%10\n",
        "  s = s+rem\n",
        "  n =  int(n/10)\n",
        "\n",
        "print(\"Sum of numbers\" , s)\n",
        "\n",
        "\n",
        "\n"
      ],
      "metadata": {
        "colab": {
          "base_uri": "https://localhost:8080/"
        },
        "id": "ZH45m2oXyyUs",
        "outputId": "69c26c06-22f4-44e3-cc67-cc9505b72eb7"
      },
      "execution_count": null,
      "outputs": [
        {
          "output_type": "stream",
          "name": "stdout",
          "text": [
            "Enter a number123\n",
            "Sum of numbers 6\n"
          ]
        }
      ]
    },
    {
      "cell_type": "code",
      "source": [
        "#Program to find out the reverse of  a given nos\n",
        "\n",
        "\n",
        "n = int(input(\"Enter a number\"))\n",
        "\n",
        "rev = 0\n",
        "while(n>0):\n",
        "  rem = n%10\n",
        "  rev = rev*10+rem\n",
        "  n =  int(n/10)\n",
        "\n",
        "print(\"Sum of numbers\" , rev)\n",
        "\n"
      ],
      "metadata": {
        "colab": {
          "base_uri": "https://localhost:8080/"
        },
        "id": "Jj5DfuVB3xqn",
        "outputId": "9077580a-be8a-4658-eb8c-7123a2420e20"
      },
      "execution_count": null,
      "outputs": [
        {
          "output_type": "stream",
          "name": "stdout",
          "text": [
            "Enter a number54321\n",
            "Sum of numbers 12345\n"
          ]
        }
      ]
    },
    {
      "cell_type": "code",
      "source": [
        "# Nested Loops :--\n",
        "# 1\n",
        "# 1 2\n",
        "# 1 2 3\n",
        "# 1 2 3 4\n",
        "\n",
        "\n",
        "i = 1\n",
        "while i<5:\n",
        "  j= 1\n",
        "  while j<(i+1):\n",
        "    print(j , end = ' ' )\n",
        "    j = j+1\n",
        "  i = i+1\n",
        "  print()\n",
        "\n",
        "\n",
        "\n",
        "\n",
        "\n",
        "\n"
      ],
      "metadata": {
        "colab": {
          "base_uri": "https://localhost:8080/"
        },
        "id": "AcuHnhGm5mNq",
        "outputId": "8b4fb12e-dd59-4d3a-88fc-28623a5eb8d9"
      },
      "execution_count": null,
      "outputs": [
        {
          "output_type": "stream",
          "name": "stdout",
          "text": [
            "1 \n",
            "1 2 \n",
            "1 2 3 \n",
            "1 2 3 4 \n"
          ]
        }
      ]
    },
    {
      "cell_type": "code",
      "source": [
        "#Assignments nos -2 :--\n",
        "\n"
      ],
      "metadata": {
        "id": "l3dnAQ_l8_TM"
      },
      "execution_count": null,
      "outputs": []
    },
    {
      "cell_type": "code",
      "source": [
        "# Program which prints the fibonacci series of a number and write the conditions that nos should not be negative\n",
        "x = int(input(\"Enter the number till where you want fibonacci series\"))\n",
        "if(x<0):\n",
        "  print(\"This is a negative number. Please enter a number greater than 0\")\n",
        "else: a=0\n",
        "b=1\n",
        "count =0\n",
        "print(a)\n",
        "print(b)\n",
        "while (count<x):\n",
        "  temp = a+b\n",
        "  print(temp)\n",
        "  a=b\n",
        "  b=temp\n",
        "  count +=1\n",
        "\n",
        "\n",
        "\n",
        "\n",
        "\n",
        "\n"
      ],
      "metadata": {
        "id": "D9n6Pn3p90Q4",
        "colab": {
          "base_uri": "https://localhost:8080/"
        },
        "outputId": "33698f57-9989-42cb-add9-4dbfd7adbc56"
      },
      "execution_count": null,
      "outputs": [
        {
          "output_type": "stream",
          "name": "stdout",
          "text": [
            "Enter the number till where you want fibonacci series-8\n",
            "This is a negative number. Please enter a number greater than 0\n",
            "0\n",
            "1\n"
          ]
        }
      ]
    },
    {
      "cell_type": "code",
      "source": [
        "# Program that finds the distance between 2 points (x1  , y1) and (x2 , y2) using equation formula\n",
        "\n",
        "x1 = float(input(\"Enter the value of x1: \"))\n",
        "y1 = float(input(\"Enter the value of y1: \"))\n",
        "x2 = float(input(\"Enter the value of x2: \"))\n",
        "y2 = float(input(\"Enter the value of y2: \"))\n",
        "\n",
        "dist = ((x2-x1)**2 + (y2-y1)**2) **(1/2)\n",
        "\n",
        "print(dist)\n"
      ],
      "metadata": {
        "id": "MPUf65Jp_W_v",
        "colab": {
          "base_uri": "https://localhost:8080/"
        },
        "outputId": "7a62fd6c-ad50-4f1f-813c-184ca8a86160"
      },
      "execution_count": null,
      "outputs": [
        {
          "output_type": "stream",
          "name": "stdout",
          "text": [
            "Enter the value of x1: 3\n",
            "Enter the value of y1: 2\n",
            "Enter the value of x2: 6\n",
            "Enter the value of y2: 6\n",
            "5.0\n"
          ]
        }
      ]
    },
    {
      "cell_type": "code",
      "source": [
        "# Program to find the best of two test avearage marks out of three and  test's marks is accepted from the user\n",
        "a = float(input(\"Enter Test 1 Marks: \"))\n",
        "b= float(input(\"Enter Test 2 Marks:\"))\n",
        "c= float(input(\"Enter Test 3 Marks: \"))\n",
        "\n",
        "avg1 = (a+b)/2\n",
        "avg2 = (b+c)/2\n",
        "avg3 = (a+c)/2\n",
        "\n",
        "if (avg1 > avg3 and avg2 > avg3):\n",
        "  print (\"Best 2 avg marks are test1 and 2:\", avg1, avg2)\n",
        "elif (avg1 > avg2 and avg3 > avg2):\n",
        "  print (\"Best 2 avg marks are test1 and 3:\", avg1, avg3)\n",
        "else:\n",
        "   print (\"Best 2 avg marks are test2 and 3:\", avg2, avg3)"
      ],
      "metadata": {
        "id": "bUzz7ST4-mjo",
        "colab": {
          "base_uri": "https://localhost:8080/"
        },
        "outputId": "4270309c-6767-44e3-a810-b745a45d0c18"
      },
      "execution_count": null,
      "outputs": [
        {
          "output_type": "stream",
          "name": "stdout",
          "text": [
            "Enter Test 1 Marks: 10\n",
            "Enter Test 2 Marks:30\n",
            "Enter Test 3 Marks: 50\n",
            "Best 2 avg marks are test2 and 3 40.0 30.0\n"
          ]
        }
      ]
    },
    {
      "cell_type": "code",
      "source": [
        "# Program to find the area of triangle and perimeter of triangle\n",
        "\n",
        "a = float(input(\"Enter side1: \"))\n",
        "b= float(input(\"Enter side2: \"))\n",
        "c= float(input(\"Enter side3: \"))\n",
        "\n",
        "print (\"perimeter of triangle =\", a+b+c)\n",
        "\n",
        "s=(a+b+c)/2\n",
        "area = (s * (s-a) * (s-b) * (s-c)) **(1/2)\n",
        "\n",
        "print (\"Area of triangle = \", area)\n",
        "\n"
      ],
      "metadata": {
        "id": "ZabdfAjd_CNC",
        "colab": {
          "base_uri": "https://localhost:8080/"
        },
        "outputId": "0b513036-cc04-4729-d29b-1a7f3285f7fb"
      },
      "execution_count": null,
      "outputs": [
        {
          "output_type": "stream",
          "name": "stdout",
          "text": [
            "Enter side1: 20\n",
            "Enter side2: 20\n",
            "Enter side3: 10\n",
            "perimeter of triangle = 50.0\n",
            "Area of triangle =  96.82458365518542\n"
          ]
        }
      ]
    },
    {
      "cell_type": "code",
      "source": [
        "# Program to swap the two variables without using the third variable\n",
        "\n",
        "a = float(input(\"Enter the value of a: \"))\n",
        "b = float(input(\"Enter the value of b: \"))\n",
        "\n",
        "a = a+b\n",
        "print (a)\n",
        "b = a-b\n",
        "a = a-b\n",
        "print (\"the value of a after swapping is: \",a)\n",
        "print (\"the value of b after swapping is: \", b)\n",
        "\n",
        "\n"
      ],
      "metadata": {
        "id": "29abKn1g_Nev",
        "colab": {
          "base_uri": "https://localhost:8080/"
        },
        "outputId": "b1808ec9-00dd-4957-da26-ffb0eb53776b"
      },
      "execution_count": null,
      "outputs": [
        {
          "output_type": "stream",
          "name": "stdout",
          "text": [
            "Enter the value of a: 2\n",
            "Enter the value of b: 3\n",
            "5.0\n",
            "the value of a after swapping is:  3.0\n",
            "the value of b after swapping is:  2.0\n"
          ]
        }
      ]
    },
    {
      "cell_type": "code",
      "source": [
        "# Write a python program to add two nos which is integer datatype and its result should be displayed as floating datatype\n",
        "\n",
        "a = int(input(\"Enter the value of a: \"))\n",
        "b = int(input(\"Enter the value of b: \"))\n",
        "\n",
        "result = float(a+b)\n",
        "print (result)\n",
        "\n"
      ],
      "metadata": {
        "id": "DvBkqVwM_8tq",
        "colab": {
          "base_uri": "https://localhost:8080/"
        },
        "outputId": "be384f8c-28c5-418b-e80a-3691072ee3ff"
      },
      "execution_count": null,
      "outputs": [
        {
          "output_type": "stream",
          "name": "stdout",
          "text": [
            "Enter the value of a: 10\n",
            "Enter the value of b: 2\n",
            "12.0\n"
          ]
        }
      ]
    },
    {
      "cell_type": "code",
      "source": [
        "\n",
        "# Program to generate student Result . Accept marks of five subject and display the result according to following conditions:-\n",
        "\n",
        "# Percentage     Division\n",
        "# >=75             First Class with Distinction\n",
        "# >=60 and <75     First Class\n",
        "# >=45 and <60     Second Class\n",
        "# >=40 and <45     Pass\n",
        "# <40              FAIL\n",
        "\n",
        "Math = int(input(\"Enter Maths Marks: \"))\n",
        "Sci = int(input(\"Enter Science Marks: \"))\n",
        "Eng = int(input(\"Enter English Marks: \"))\n",
        "His = int(input(\"Enter History Marks: \"))\n",
        "Geo = int(input(\"Enter Georaphy Marks \"))\n",
        "\n",
        "per = (Math+ Sci+ Eng+ His+ Geo) * 100/ 500\n",
        "\n",
        "print(per)\n",
        "\n",
        "if (per >= 75):\n",
        "  print (\"First Class with Distinction\")\n",
        "elif(per >= 60 and per <75):\n",
        "  print (\" First Class\")\n",
        "elif(per >= 45 and per <60):\n",
        "  print (\" Second Class\")\n",
        "elif(per >= 40 and per <45):\n",
        "  print (\"Pass\")\n",
        "else:\n",
        "  print(\"FAIL\")\n",
        "\n"
      ],
      "metadata": {
        "id": "cVI6PsMqAP_n",
        "colab": {
          "base_uri": "https://localhost:8080/"
        },
        "outputId": "8730b7d8-02fa-49c6-f11d-292bb941281e"
      },
      "execution_count": null,
      "outputs": [
        {
          "output_type": "stream",
          "name": "stdout",
          "text": [
            "Enter Maths Marks: 40\n",
            "Enter Science Marks: 30\n",
            "Enter English Marks: 40\n",
            "Enter History Marks: 30\n",
            "Enter Georaphy Marks 20\n",
            "32.0\n",
            "FAIL\n"
          ]
        }
      ]
    },
    {
      "cell_type": "code",
      "source": [
        "# Program to print the following pattern\n",
        "\n",
        "# *\n",
        "# * *\n",
        "# * * *\n",
        "# * * * *\n",
        "\n",
        "\n",
        "# i = 1\n",
        "# while i<5:\n",
        "#   j= 1\n",
        "#   while j<(i+1):\n",
        "#     print(j , end = ' ' )\n",
        "#     j = j+1\n",
        "#   i = i+1\n",
        "#   print()\n",
        "\n",
        "\n",
        "i=0\n",
        "while(i<4):\n",
        "  j=0\n",
        "  while j<(i+1):\n",
        "      print(\"*\", end = ' ')\n",
        "      j+=1\n",
        "  i=i+1\n",
        "  print()"
      ],
      "metadata": {
        "id": "dL-ztTiADyOG",
        "colab": {
          "base_uri": "https://localhost:8080/"
        },
        "outputId": "0810b3d1-38ed-409a-b38e-13ab5a8ef313"
      },
      "execution_count": null,
      "outputs": [
        {
          "output_type": "stream",
          "name": "stdout",
          "text": [
            "* \n",
            "* * \n",
            "* * * \n",
            "* * * * \n"
          ]
        }
      ]
    },
    {
      "cell_type": "code",
      "source": [
        "# Program to print the table of 6 I want O/P as in given format\n",
        "# 6 * 1 = 6\n",
        "# 6 * 2 = 12\n",
        "# 6 * 3 = 18\n",
        "# .\n",
        "# .\n",
        "# .\n",
        "# .\n",
        "# 6 * 10 = 60\n",
        "\n",
        "\n",
        "\n",
        "a = 6\n",
        "b = 1\n",
        "while(b <= 10):\n",
        "  print(a, \"*\", b, \"=\", a*b)\n",
        "# print(\"{} * {} =\". format(a,b), a*b)\n",
        "  b = b+1\n",
        "\n",
        "\n"
      ],
      "metadata": {
        "id": "Zjs2ABMTEJWt",
        "colab": {
          "base_uri": "https://localhost:8080/"
        },
        "outputId": "2e9f99f7-8a3e-4daf-a3e8-cea215eff1be"
      },
      "execution_count": null,
      "outputs": [
        {
          "output_type": "stream",
          "name": "stdout",
          "text": [
            "6 * 1 = 6\n",
            "6 * 2 = 12\n",
            "6 * 3 = 18\n",
            "6 * 4 = 24\n",
            "6 * 5 = 30\n",
            "6 * 6 = 36\n",
            "6 * 7 = 42\n",
            "6 * 8 = 48\n",
            "6 * 9 = 54\n",
            "6 * 10 = 60\n"
          ]
        }
      ]
    },
    {
      "cell_type": "code",
      "source": [
        "# Program which accpets 5 integers values and print \"DUPLICATES\" if any of the values entered are repeated otherwise it prints\n",
        "# \"ALL UNIQUE\" . Let 5 integers are (32 , 45 , 90 ,45 ,6 )\n",
        "#  Now you can se dupliactes is 45 and uniques are 32 , 90 , 6 so my output should be in below format\n",
        "\n",
        "# DUPLICATE : 45\n",
        "# UNIQUE : 32\n",
        "# UNIQUE : 90\n",
        "# UNIQUE  : 6\n",
        "\n",
        "\n",
        "a = int(input(\"Enter the value of a: \"))\n",
        "b = int(input(\"Enter the value of b: \"))\n",
        "c = int(input(\"Enter the value of c: \"))\n",
        "d = int(input(\"Enter the value of d: \"))\n",
        "e = int(input(\"Enter the value of e: \"))\n",
        "\n",
        "list = [a,b,c,d,e]\n",
        "dup=[]\n",
        "unq=[]\n",
        "\n",
        "i=0\n",
        "\n",
        "while (i<len(list)):\n",
        "  if(list[i] not in unq):\n",
        "    unq.append(list[i])\n",
        "  elif(list[i] not in dup):\n",
        "    dup.append(list[i])\n",
        "  i+=1\n",
        "\n",
        "dup_set = set(dup)\n",
        "unq_set = set(unq)\n",
        "unq_set = unq_set - dup_set\n",
        "\n",
        "i=0\n",
        "for i in dup_set:\n",
        " print(\"DUPLICATE :\", i)\n",
        "for i in unq_set:\n",
        " print(\"UNIQUE :\", i)\n",
        "\n",
        "\n",
        "\n",
        "# while i<len(dup_set):\n",
        "#   print(\"DUPLICATE :\", dup_set[i])\n",
        "#   i+=1\n",
        "# while i<len(unq_set):\n",
        "#   print(\"DUPLICATE :\", unq_set[i])\n",
        "#   i+=1\n",
        "\n",
        "\n",
        "\n",
        "\n",
        "\n",
        "# print (\"DUPLICATE :\", dup_set)\n",
        "# print (\"UNIQUE: \", unq_set)\n",
        "\n",
        "\n",
        "\n",
        "\n",
        "\n",
        "  # j=0\n",
        "#   while (j<len(list)):\n",
        "#     if (list[i]==list[j] and  i!=j):\n",
        "#       dup.append(list[i])\n",
        "#     j+=1\n",
        "#   unq.append(list[i])\n",
        "#   i+=1\n",
        "# print (dup)\n",
        "# print (unq - dup)\n",
        "\n"
      ],
      "metadata": {
        "id": "CJzIlTdSEXoH",
        "colab": {
          "base_uri": "https://localhost:8080/"
        },
        "outputId": "dc9b98c0-757e-459c-a4b1-4a2c88fed033"
      },
      "execution_count": null,
      "outputs": [
        {
          "output_type": "stream",
          "name": "stdout",
          "text": [
            "Enter the value of a: 10\n",
            "Enter the value of b: 20\n",
            "Enter the value of c: 10\n",
            "Enter the value of d: 20\n",
            "Enter the value of e: 10\n",
            "DUPLICATE : 10\n",
            "DUPLICATE : 20\n"
          ]
        }
      ]
    }
  ]
}